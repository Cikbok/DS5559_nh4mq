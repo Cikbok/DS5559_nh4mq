{
 "cells": [
  {
   "cell_type": "markdown",
   "metadata": {},
   "source": [
    "### Libraires"
   ]
  },
  {
   "cell_type": "code",
   "execution_count": 2,
   "metadata": {},
   "outputs": [],
   "source": [
    "import sklearn\n",
    "#!pip install plotly --user\n",
    "import plotly.plotly as py\n",
    "import plotly.graph_objs as go\n",
    "from plotly import tools\n",
    "import pandas as pd\n",
    "import numpy as np\n",
    "import sqlite3\n",
    "import textman as tx\n",
    "from gensim.models import word2vec\n",
    "from sklearn.manifold import TSNE\n",
    "import matplotlib.pyplot as plt\n",
    "from sklearn.cluster import KMeans"
   ]
  },
  {
   "cell_type": "code",
   "execution_count": 3,
   "metadata": {},
   "outputs": [],
   "source": [
    "db_file='./novels.db'"
   ]
  },
  {
   "cell_type": "code",
   "execution_count": 4,
   "metadata": {},
   "outputs": [],
   "source": [
    "OHCO = ['book_num','chap_num','para_num','sent_num']\n",
    "with sqlite3.connect(db_file) as db:\n",
    "     tokens=pd.read_sql(\"SELECT * FROM token\", db)\n",
    "tokens = tokens[~tokens.term_str.isna()]\n",
    "corpus = tokens.groupby(OHCO).term_str.apply(lambda  x:  x.tolist())\\\n",
    "    .reset_index()['term_str'].tolist()"
   ]
  },
  {
   "cell_type": "markdown",
   "metadata": {},
   "source": [
    "### Generate word embeddings with Gensim's library"
   ]
  },
  {
   "cell_type": "code",
   "execution_count": 5,
   "metadata": {},
   "outputs": [],
   "source": [
    "model = word2vec.Word2Vec(corpus, size=246, window=5, min_count=200, workers=4)"
   ]
  },
  {
   "cell_type": "markdown",
   "metadata": {},
   "source": [
    "### Visualize with tSNE"
   ]
  },
  {
   "cell_type": "code",
   "execution_count": 6,
   "metadata": {},
   "outputs": [],
   "source": [
    "coords = pd.DataFrame(index=range(len(model.wv.vocab)))\n",
    "coords['label'] = [w for w in model.wv.vocab]\n",
    "coords['vector'] = coords['label'].apply(lambda x: model.wv.get_vector(x))"
   ]
  },
  {
   "cell_type": "code",
   "execution_count": 7,
   "metadata": {},
   "outputs": [],
   "source": [
    "tsne_model = TSNE(perplexity=40, n_components=3, init='pca', n_iter=2500, random_state=23)\n",
    "tsne_values = tsne_model.fit_transform(coords['vector'].tolist())"
   ]
  },
  {
   "cell_type": "code",
   "execution_count": 8,
   "metadata": {},
   "outputs": [],
   "source": [
    "coords['x'] = tsne_values[:,0]\n",
    "coords['y'] = tsne_values[:,1]\n",
    "coords[\"z\"]=tsne_values[:,2]"
   ]
  },
  {
   "cell_type": "code",
   "execution_count": 9,
   "metadata": {},
   "outputs": [
    {
     "data": {
      "text/html": [
       "<div>\n",
       "<style scoped>\n",
       "    .dataframe tbody tr th:only-of-type {\n",
       "        vertical-align: middle;\n",
       "    }\n",
       "\n",
       "    .dataframe tbody tr th {\n",
       "        vertical-align: top;\n",
       "    }\n",
       "\n",
       "    .dataframe thead th {\n",
       "        text-align: right;\n",
       "    }\n",
       "</style>\n",
       "<table border=\"1\" class=\"dataframe\">\n",
       "  <thead>\n",
       "    <tr style=\"text-align: right;\">\n",
       "      <th></th>\n",
       "      <th>label</th>\n",
       "      <th>vector</th>\n",
       "      <th>x</th>\n",
       "      <th>y</th>\n",
       "      <th>z</th>\n",
       "    </tr>\n",
       "  </thead>\n",
       "  <tbody>\n",
       "    <tr>\n",
       "      <th>0</th>\n",
       "      <td>the</td>\n",
       "      <td>[-0.5734609, -1.0074835, -0.9610861, -0.076018...</td>\n",
       "      <td>-20.024199</td>\n",
       "      <td>-8.307119</td>\n",
       "      <td>-6.322312</td>\n",
       "    </tr>\n",
       "    <tr>\n",
       "      <th>1</th>\n",
       "      <td>heart</td>\n",
       "      <td>[-1.3887401, -1.9154981, -1.6126525, -0.811983...</td>\n",
       "      <td>18.536423</td>\n",
       "      <td>-22.144844</td>\n",
       "      <td>10.668086</td>\n",
       "    </tr>\n",
       "    <tr>\n",
       "      <th>2</th>\n",
       "      <td>of</td>\n",
       "      <td>[-0.015454118, -0.1963343, -1.8105001, -0.1874...</td>\n",
       "      <td>1.231350</td>\n",
       "      <td>-2.020259</td>\n",
       "      <td>-11.925744</td>\n",
       "    </tr>\n",
       "    <tr>\n",
       "      <th>3</th>\n",
       "      <td>rome</td>\n",
       "      <td>[-0.29846457, -0.584723, 0.25645918, 0.4676312...</td>\n",
       "      <td>-13.155907</td>\n",
       "      <td>-3.202682</td>\n",
       "      <td>-18.767643</td>\n",
       "    </tr>\n",
       "    <tr>\n",
       "      <th>4</th>\n",
       "      <td>i</td>\n",
       "      <td>[0.11904274, 0.42246172, -0.10948593, 0.049479...</td>\n",
       "      <td>41.820728</td>\n",
       "      <td>10.979006</td>\n",
       "      <td>-4.317355</td>\n",
       "    </tr>\n",
       "  </tbody>\n",
       "</table>\n",
       "</div>"
      ],
      "text/plain": [
       "   label                                             vector          x  \\\n",
       "0    the  [-0.5734609, -1.0074835, -0.9610861, -0.076018... -20.024199   \n",
       "1  heart  [-1.3887401, -1.9154981, -1.6126525, -0.811983...  18.536423   \n",
       "2     of  [-0.015454118, -0.1963343, -1.8105001, -0.1874...   1.231350   \n",
       "3   rome  [-0.29846457, -0.584723, 0.25645918, 0.4676312... -13.155907   \n",
       "4      i  [0.11904274, 0.42246172, -0.10948593, 0.049479...  41.820728   \n",
       "\n",
       "           y          z  \n",
       "0  -8.307119  -6.322312  \n",
       "1 -22.144844  10.668086  \n",
       "2  -2.020259 -11.925744  \n",
       "3  -3.202682 -18.767643  \n",
       "4  10.979006  -4.317355  "
      ]
     },
     "execution_count": 9,
     "metadata": {},
     "output_type": "execute_result"
    }
   ],
   "source": [
    "coords.head()"
   ]
  },
  {
   "cell_type": "code",
   "execution_count": 10,
   "metadata": {},
   "outputs": [
    {
     "data": {
      "text/html": [
       "<iframe id=\"igraph\" scrolling=\"no\" style=\"border:none;\" seamless=\"seamless\" src=\"https://plot.ly/~nh4mq/21.embed\" height=\"525px\" width=\"100%\"></iframe>"
      ],
      "text/plain": [
       "<chart_studio.tools.PlotlyDisplay object>"
      ]
     },
     "execution_count": 10,
     "metadata": {},
     "output_type": "execute_result"
    }
   ],
   "source": [
    "df=coords\n",
    "tools.set_credentials_file(username='nh4mq', api_key='dSgtevzVSngapiW6qj3I')\n",
    "\n",
    "scatter = dict(\n",
    "    mode = \"markers\",\n",
    "    name = \"y\",\n",
    "    type = \"scatter3d\",    \n",
    "    x = df['x'], y = df['y'], z = df['z'],\n",
    "    text = df[\"label\"],\n",
    "    marker = dict( size=2, color=df[\"z\"],                # set color to an array/list of desired values\n",
    "        colorscale='Viridis',   # choose a colorscale\n",
    "        opacity=0.8)\n",
    ")\n",
    "layout = dict(\n",
    "    title = '3d point TSNE',\n",
    "    scene = dict(\n",
    "        xaxis = dict( zeroline=False ),\n",
    "        yaxis = dict( zeroline=False ),\n",
    "        zaxis = dict( zeroline=False ),\n",
    "    )\n",
    ")\n",
    "fig = dict( data=[scatter], layout=layout )\n",
    "# Use py.iplot() for IPython notebook\n",
    "py.iplot(fig, filename='3d point TSNE')\n",
    "\n"
   ]
  }
 ],
 "metadata": {
  "kernelspec": {
   "display_name": "Python 3",
   "language": "python",
   "name": "python3"
  },
  "language_info": {
   "codemirror_mode": {
    "name": "ipython",
    "version": 3
   },
   "file_extension": ".py",
   "mimetype": "text/x-python",
   "name": "python",
   "nbconvert_exporter": "python",
   "pygments_lexer": "ipython3",
   "version": "3.6.6"
  }
 },
 "nbformat": 4,
 "nbformat_minor": 2
}
