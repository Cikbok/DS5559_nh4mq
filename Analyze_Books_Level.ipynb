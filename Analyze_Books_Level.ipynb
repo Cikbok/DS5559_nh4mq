{
 "cells": [
  {
   "cell_type": "markdown",
   "metadata": {},
   "source": [
    "### Configuration"
   ]
  },
  {
   "cell_type": "code",
   "execution_count": 66,
   "metadata": {},
   "outputs": [],
   "source": [
    "source_dir = './texts'\n",
    "chap_pat=r'(^\\n*(?:CHAPTER \\d+).*$)|(^\\n*(?:Chapter \\d+).*$)|(^\\n*(?:Chapter ((?=[MDCLXVI])M*D?C{0,4}L?X{0,4}V?I{0,4})).*$)|(^\\n*(?:CHAPTER ((?=[MDCLXVI])M*D?C{0,4}L?X{0,4}V?I{0,4})).*$)|(^\\n*(?:Footnote).*$)|\\\n",
    "            (^\\n*(?:INTRODUCTION).*$)|(^\\n*(?:PART ((?=[MDCLXVI])M*D?C{0,4}L?X{0,4}V?I{0,4})).*$)|(^\\s*(?:CHAPTER \\d+).*$)|(^\\s*(?:Chapter \\d+).*$)|(^\\s*(?:Chapter ((?=[MDCLXVI])M*D?C{0,4}L?X{0,4}V?I{0,4})).*$)|\\\n",
    "            (^\\n*(?:CHAPTER ((?=[MDCLXVI])M*D?C{0,4}L?X{0,4}V?I{0,4})).*$)|(^\\n*(?:Footnote).*$)|\\\n",
    "            (^\\s*(?:INTRODUCTION).*$)|(^\\s*(?:PART ((?=[MDCLXVI])M*D?C{0,4}L?X{0,4}V?I{0,4})).*$)'\n",
    "para_pat = r'\\n\\n+'\n",
    "token_pat = r'([\\W_]+)'\n",
    "db_file = 'novels.db'"
   ]
  },
  {
   "cell_type": "code",
   "execution_count": 2,
   "metadata": {},
   "outputs": [],
   "source": [
    "extra_stopwords = \"\"\"\n",
    "us rest went least would much must long one like much say well without though yet might still upon\n",
    "done every rather particular made many previous always never thy thou go first oh thee ere ye came\n",
    "almost could may sometimes seem called among another also however nevertheless even way one two three\n",
    "ever put therefore whose\n",
    "\"\"\".strip().split()"
   ]
  },
  {
   "cell_type": "markdown",
   "metadata": {},
   "source": [
    "### Functions"
   ]
  },
  {
   "cell_type": "code",
   "execution_count": 273,
   "metadata": {},
   "outputs": [],
   "source": [
    "   \n",
    "def analyze_sentiment_vader_lexion(book, \n",
    "                                    threshold=0.1,\n",
    "                                    verbose=False):\n",
    "        # analyze the sentiment for chapter\n",
    "        analyzer = SentimentIntensityAnalyzer()\n",
    "        scores = analyzer.polarity_scores(book)\n",
    "        # get aggregate scores and final sentiment\n",
    "        agg_score = scores['compound']\n",
    "        final_sentiment = 'positive' if agg_score >= threshold\\\n",
    "                                   else 'negative'\n",
    "        if verbose:\n",
    "            # display detailed sentiment statistics\n",
    "            positive = str(round(scores['pos'], 2)*100)+'%'\n",
    "            final = round(agg_score, 2)\n",
    "            negative = str(round(scores['neg'], 2)*100)+'%'\n",
    "            neutral = str(round(scores['neu'], 2)*100)+'%'\n",
    "        return final_sentiment, final,positive,negative,neutral     \n",
    "\n",
    "    \n",
    "def genearte_book_sentiment(books):\n",
    "    final_sens=[]\n",
    "    finals=[]\n",
    "    pos=[]\n",
    "    neg=[]\n",
    "    neu=[]\n",
    "    book_nums=[]\n",
    "    for book,book_num in zip(books,books.index.tolist()):\n",
    "        final_sentiment, final,positive,negative,neutral=analyze_sentiment_vader_lexion(book,threshold=0.4,verbose=True)\n",
    "        final_sens.append(final_sentiment)\n",
    "        finals.append(final)\n",
    "        pos.append(positive)\n",
    "        neg.append(negative)\n",
    "        neu.append(neutral)\n",
    "        book_nums.append(book_num)\n",
    "    sentiment_frame = pd.DataFrame({'Predicted Sentiment':final_sens, 'Polarity Score':finals, 'Positive':pos,\n",
    "                                        'Negative':neg, 'Neutral':neu,'book_num':book_nums})\n",
    "    return sentiment_frame\n",
    "\n"
   ]
  },
  {
   "cell_type": "markdown",
   "metadata": {},
   "source": [
    "### Libraries"
   ]
  },
  {
   "cell_type": "code",
   "execution_count": 275,
   "metadata": {},
   "outputs": [
    {
     "name": "stdout",
     "output_type": "stream",
     "text": [
      "[nltk_data] Downloading package punkt to /home/nh4mq/nltk_data...\n",
      "[nltk_data]   Package punkt is already up-to-date!\n",
      "[nltk_data] Downloading package averaged_perceptron_tagger to\n",
      "[nltk_data]     /home/nh4mq/nltk_data...\n",
      "[nltk_data]   Package averaged_perceptron_tagger is already up-to-\n",
      "[nltk_data]       date!\n",
      "[nltk_data] Downloading package stopwords to /home/nh4mq/nltk_data...\n",
      "[nltk_data]   Package stopwords is already up-to-date!\n",
      "[nltk_data] Downloading package tagsets to /home/nh4mq/nltk_data...\n",
      "[nltk_data]   Package tagsets is already up-to-date!\n",
      "[nltk_data] Downloading package wordnet to /home/nh4mq/nltk_data...\n",
      "[nltk_data]   Package wordnet is already up-to-date!\n"
     ]
    },
    {
     "name": "stderr",
     "output_type": "stream",
     "text": [
      "/apps/software/standard/core/anaconda/5.2.0-py3.6/lib/python3.6/site-packages/nltk/twitter/__init__.py:20: UserWarning: The twython library has not been installed. Some functionality from the twitter package will not be available.\n",
      "  warnings.warn(\"The twython library has not been installed. \"\n"
     ]
    },
    {
     "data": {
      "text/plain": [
       "True"
      ]
     },
     "execution_count": 275,
     "metadata": {},
     "output_type": "execute_result"
    }
   ],
   "source": [
    "import glob\n",
    "import sqlite3\n",
    "import random\n",
    "import pandas as pd\n",
    "import numpy as np\n",
    "import re\n",
    "from IPython.display import display, HTML\n",
    "from nltk.sentiment.vader import SentimentIntensityAnalyzer\n",
    "\n",
    "\n",
    "import nltk\n",
    "from nltk.tokenize import RegexpTokenizer\n",
    "nltk.download('punkt')\n",
    "nltk.download('averaged_perceptron_tagger')\n",
    "nltk.download('stopwords')\n",
    "nltk.download('tagsets')\n",
    "nltk.download('wordnet')"
   ]
  },
  {
   "cell_type": "markdown",
   "metadata": {},
   "source": [
    "### Pragmas"
   ]
  },
  {
   "cell_type": "code",
   "execution_count": 5,
   "metadata": {},
   "outputs": [],
   "source": [
    "%matplotlib inline"
   ]
  },
  {
   "cell_type": "markdown",
   "metadata": {},
   "source": [
    "### Import files"
   ]
  },
  {
   "cell_type": "code",
   "execution_count": 6,
   "metadata": {},
   "outputs": [],
   "source": [
    "files = glob.glob(\"{}/*.txt\".format(source_dir))"
   ]
  },
  {
   "cell_type": "code",
   "execution_count": 7,
   "metadata": {},
   "outputs": [
    {
     "data": {
      "text/plain": [
       "439"
      ]
     },
     "execution_count": 7,
     "metadata": {},
     "output_type": "execute_result"
    }
   ],
   "source": [
    "len(files)"
   ]
  },
  {
   "cell_type": "markdown",
   "metadata": {},
   "source": [
    "### Only Analyze 100 Books (Randomly Select)"
   ]
  },
  {
   "cell_type": "code",
   "execution_count": 9,
   "metadata": {},
   "outputs": [],
   "source": [
    "random.seed(42)\n",
    "rand=random.sample(range(439), 100)"
   ]
  },
  {
   "cell_type": "code",
   "execution_count": 10,
   "metadata": {},
   "outputs": [
    {
     "name": "stdout",
     "output_type": "stream",
     "text": [
      "[327, 57, 12, 379, 140, 125, 114, 71, 377, 52, 346, 435, 279, 44, 302, 216, 16, 15, 47, 111, 119, 258, 308, 13, 287, 101, 366, 332, 359, 426, 214, 112, 229, 301, 142, 3, 388, 81, 357, 423, 174, 404, 79, 110, 390, 172, 429, 420, 194, 49, 183, 176, 309, 135, 22, 373, 235, 274, 63, 193, 40, 282, 150, 321, 316, 185, 295, 98, 360, 35, 23, 338, 116, 148, 378, 418, 51, 394, 397, 232, 325, 186, 83, 189, 181, 107, 343, 136, 349, 331, 36, 311, 358, 87, 273, 433, 356, 236, 361, 138]\n"
     ]
    }
   ],
   "source": [
    "print(rand)"
   ]
  },
  {
   "cell_type": "code",
   "execution_count": 12,
   "metadata": {},
   "outputs": [],
   "source": [
    "final_files=[]\n",
    "for i in rand:\n",
    "    final_files.append(files[i])"
   ]
  },
  {
   "cell_type": "code",
   "execution_count": 13,
   "metadata": {},
   "outputs": [
    {
     "data": {
      "text/plain": [
       "100"
      ]
     },
     "execution_count": 13,
     "metadata": {},
     "output_type": "execute_result"
    }
   ],
   "source": [
    "len(final_files)"
   ]
  },
  {
   "cell_type": "markdown",
   "metadata": {},
   "source": [
    "### Process Files"
   ]
  },
  {
   "cell_type": "code",
   "execution_count": 20,
   "metadata": {},
   "outputs": [],
   "source": [
    "novel_info=pd.read_csv(\"cenlab-index.csv\")"
   ]
  },
  {
   "cell_type": "code",
   "execution_count": 26,
   "metadata": {},
   "outputs": [
    {
     "data": {
      "text/html": [
       "<div>\n",
       "<style scoped>\n",
       "    .dataframe tbody tr th:only-of-type {\n",
       "        vertical-align: middle;\n",
       "    }\n",
       "\n",
       "    .dataframe tbody tr th {\n",
       "        vertical-align: top;\n",
       "    }\n",
       "\n",
       "    .dataframe thead th {\n",
       "        text-align: right;\n",
       "    }\n",
       "</style>\n",
       "<table border=\"1\" class=\"dataframe\">\n",
       "  <thead>\n",
       "    <tr style=\"text-align: right;\">\n",
       "      <th></th>\n",
       "      <th>Unnamed: 0</th>\n",
       "      <th>author</th>\n",
       "      <th>date</th>\n",
       "      <th>filename</th>\n",
       "      <th>gender</th>\n",
       "      <th>nationality</th>\n",
       "      <th>title</th>\n",
       "      <th>words</th>\n",
       "      <th>modernist</th>\n",
       "    </tr>\n",
       "  </thead>\n",
       "  <tbody>\n",
       "    <tr>\n",
       "      <th>0</th>\n",
       "      <td>0</td>\n",
       "      <td>Frances Burnett</td>\n",
       "      <td>1881</td>\n",
       "      <td>1881 a fair barbarian.txt</td>\n",
       "      <td>f</td>\n",
       "      <td>a</td>\n",
       "      <td>A Fair Barbarian</td>\n",
       "      <td>41718.0</td>\n",
       "      <td>n</td>\n",
       "    </tr>\n",
       "  </tbody>\n",
       "</table>\n",
       "</div>"
      ],
      "text/plain": [
       "   Unnamed: 0           author  date                   filename gender  \\\n",
       "0           0  Frances Burnett  1881  1881 a fair barbarian.txt      f   \n",
       "\n",
       "  nationality             title    words modernist  \n",
       "0           a  A Fair Barbarian  41718.0         n  "
      ]
     },
     "execution_count": 26,
     "metadata": {},
     "output_type": "execute_result"
    }
   ],
   "source": [
    "novel_info.head(1)"
   ]
  },
  {
   "cell_type": "code",
   "execution_count": 19,
   "metadata": {},
   "outputs": [],
   "source": [
    "#Using cenlab-index file to get author information\n",
    "#attache the information to the content dataframe.\n",
    "keys=[x.replace('./texts/','') for x in final_files]"
   ]
  },
  {
   "cell_type": "code",
   "execution_count": 278,
   "metadata": {},
   "outputs": [],
   "source": [
    "T=pd.DataFrame(keys,columns=[\"filename\"])"
   ]
  },
  {
   "cell_type": "code",
   "execution_count": 279,
   "metadata": {},
   "outputs": [],
   "source": [
    "T=T.merge(novel_info[[\"filename\",\"date\",\"gender\",\"author\",\"nationality\",\"title\",\"words\"]],how=\"left\",on=\"filename\")"
   ]
  },
  {
   "cell_type": "code",
   "execution_count": 280,
   "metadata": {},
   "outputs": [],
   "source": [
    "T['text'] = [open(f, 'r', encoding='utf-8').read() for f in final_files]"
   ]
  },
  {
   "cell_type": "code",
   "execution_count": 32,
   "metadata": {},
   "outputs": [
    {
     "data": {
      "text/html": [
       "<div>\n",
       "<style scoped>\n",
       "    .dataframe tbody tr th:only-of-type {\n",
       "        vertical-align: middle;\n",
       "    }\n",
       "\n",
       "    .dataframe tbody tr th {\n",
       "        vertical-align: top;\n",
       "    }\n",
       "\n",
       "    .dataframe thead th {\n",
       "        text-align: right;\n",
       "    }\n",
       "</style>\n",
       "<table border=\"1\" class=\"dataframe\">\n",
       "  <thead>\n",
       "    <tr style=\"text-align: right;\">\n",
       "      <th></th>\n",
       "      <th>filename</th>\n",
       "      <th>date</th>\n",
       "      <th>gender</th>\n",
       "      <th>nationality</th>\n",
       "      <th>title</th>\n",
       "      <th>words</th>\n",
       "      <th>text</th>\n",
       "    </tr>\n",
       "  </thead>\n",
       "  <tbody>\n",
       "    <tr>\n",
       "      <th>0</th>\n",
       "      <td>1903 the heart of rome.txt</td>\n",
       "      <td>1903</td>\n",
       "      <td>m</td>\n",
       "      <td>a</td>\n",
       "      <td>The Heart of Rome</td>\n",
       "      <td>99632.0</td>\n",
       "      <td>\\n\\n\\n\\nTHE HEART OF ROME\\n\\n\\n\\n\\n\\n\\nCHAPTER...</td>\n",
       "    </tr>\n",
       "  </tbody>\n",
       "</table>\n",
       "</div>"
      ],
      "text/plain": [
       "                     filename  date gender nationality              title  \\\n",
       "0  1903 the heart of rome.txt  1903      m           a  The Heart of Rome   \n",
       "\n",
       "     words                                               text  \n",
       "0  99632.0  \\n\\n\\n\\nTHE HEART OF ROME\\n\\n\\n\\n\\n\\n\\nCHAPTER...  "
      ]
     },
     "execution_count": 32,
     "metadata": {},
     "output_type": "execute_result"
    }
   ],
   "source": [
    "T.head(1)"
   ]
  },
  {
   "cell_type": "code",
   "execution_count": 42,
   "metadata": {},
   "outputs": [],
   "source": [
    "#Keep less clumns for OHCO purpus\n",
    "OHCO_T=T.copy() "
   ]
  },
  {
   "cell_type": "code",
   "execution_count": 43,
   "metadata": {},
   "outputs": [],
   "source": [
    "OHCO_T=OHCO_T[[\"gender\",\"nationality\",\"date\",\"title\",\"text\"]]"
   ]
  },
  {
   "cell_type": "markdown",
   "metadata": {},
   "source": [
    "### Create stopwords list"
   ]
  },
  {
   "cell_type": "code",
   "execution_count": 40,
   "metadata": {},
   "outputs": [],
   "source": [
    "sw = nltk.corpus.stopwords.words('english') + extra_stopwords"
   ]
  },
  {
   "cell_type": "markdown",
   "metadata": {},
   "source": [
    "### Fix some characters to improve tokenization"
   ]
  },
  {
   "cell_type": "code",
   "execution_count": 44,
   "metadata": {},
   "outputs": [],
   "source": [
    "OHCO_T.text = OHCO_T.text.str.replace(r\"(—|-)\", ' \\g<1> ')"
   ]
  },
  {
   "cell_type": "code",
   "execution_count": 45,
   "metadata": {},
   "outputs": [
    {
     "data": {
      "text/html": [
       "<div>\n",
       "<style scoped>\n",
       "    .dataframe tbody tr th:only-of-type {\n",
       "        vertical-align: middle;\n",
       "    }\n",
       "\n",
       "    .dataframe tbody tr th {\n",
       "        vertical-align: top;\n",
       "    }\n",
       "\n",
       "    .dataframe thead th {\n",
       "        text-align: right;\n",
       "    }\n",
       "</style>\n",
       "<table border=\"1\" class=\"dataframe\">\n",
       "  <thead>\n",
       "    <tr style=\"text-align: right;\">\n",
       "      <th></th>\n",
       "      <th>gender</th>\n",
       "      <th>nationality</th>\n",
       "      <th>date</th>\n",
       "      <th>title</th>\n",
       "      <th>text</th>\n",
       "    </tr>\n",
       "  </thead>\n",
       "  <tbody>\n",
       "    <tr>\n",
       "      <th>0</th>\n",
       "      <td>m</td>\n",
       "      <td>a</td>\n",
       "      <td>1903</td>\n",
       "      <td>The Heart of Rome</td>\n",
       "      <td>\\n\\n\\n\\nTHE HEART OF ROME\\n\\n\\n\\n\\n\\n\\nCHAPTER...</td>\n",
       "    </tr>\n",
       "  </tbody>\n",
       "</table>\n",
       "</div>"
      ],
      "text/plain": [
       "  gender nationality  date              title  \\\n",
       "0      m           a  1903  The Heart of Rome   \n",
       "\n",
       "                                                text  \n",
       "0  \\n\\n\\n\\nTHE HEART OF ROME\\n\\n\\n\\n\\n\\n\\nCHAPTER...  "
      ]
     },
     "execution_count": 45,
     "metadata": {},
     "output_type": "execute_result"
    }
   ],
   "source": [
    "OHCO_T.head(1)"
   ]
  },
  {
   "cell_type": "markdown",
   "metadata": {},
   "source": [
    "### Text to Chapters"
   ]
  },
  {
   "cell_type": "code",
   "execution_count": 64,
   "metadata": {},
   "outputs": [],
   "source": [
    "chaps= OHCO_T.text.str.split(chap_pat, expand=True)\\\n",
    "        .stack()\\\n",
    "        .to_frame()\\\n",
    "        .rename(columns={0:'chap_str'})"
   ]
  },
  {
   "cell_type": "code",
   "execution_count": 67,
   "metadata": {},
   "outputs": [],
   "source": [
    "OHCO = ['book_num','chap_num', 'para_num', 'sent_num', 'token_num']\n",
    "BOOKS = OHCO[:1]\n",
    "CHAPS = OHCO[:2]\n",
    "PARAS = OHCO[:3]\n",
    "SENTS = OHCO[:4]"
   ]
  },
  {
   "cell_type": "code",
   "execution_count": 68,
   "metadata": {},
   "outputs": [],
   "source": [
    "chaps.index.names=CHAPS\n",
    "chaps.chap_str = chaps.chap_str.str.strip()\n",
    "chaps.chap_str = chaps.chap_str.str.replace(r'(\\n*Chapter)|(\\n*CHAPTER)|(\\n*Footnote)|(\\n*INTRODUCTION)', ' ')\n",
    "chaps=chaps[~chaps.chap_str.str.match(r'^\\s*$')]\n",
    "chaps = (chaps.groupby(chaps.index.get_level_values('book_num'))\n",
    "          .apply(lambda x: x.reset_index()).drop(['book_num','chap_num'],1))\n",
    "chaps.index = chaps.index.rename(['book_num','chap_num'])\n",
    "    "
   ]
  },
  {
   "cell_type": "code",
   "execution_count": 70,
   "metadata": {},
   "outputs": [
    {
     "data": {
      "text/html": [
       "<div>\n",
       "<style scoped>\n",
       "    .dataframe tbody tr th:only-of-type {\n",
       "        vertical-align: middle;\n",
       "    }\n",
       "\n",
       "    .dataframe tbody tr th {\n",
       "        vertical-align: top;\n",
       "    }\n",
       "\n",
       "    .dataframe thead th {\n",
       "        text-align: right;\n",
       "    }\n",
       "</style>\n",
       "<table border=\"1\" class=\"dataframe\">\n",
       "  <thead>\n",
       "    <tr style=\"text-align: right;\">\n",
       "      <th></th>\n",
       "      <th></th>\n",
       "      <th>chap_str</th>\n",
       "    </tr>\n",
       "    <tr>\n",
       "      <th>book_num</th>\n",
       "      <th>chap_num</th>\n",
       "      <th></th>\n",
       "    </tr>\n",
       "  </thead>\n",
       "  <tbody>\n",
       "    <tr>\n",
       "      <th>0</th>\n",
       "      <th>0</th>\n",
       "      <td>THE HEART OF ROME  I\\n\\n\\n\\n\\nThe Baroness Vol...</td>\n",
       "    </tr>\n",
       "    <tr>\n",
       "      <th>1</th>\n",
       "      <th>0</th>\n",
       "      <td>THE LOG OF A COWBOY  I\\n\\nUP THE TRAIL\\n\\nJust...</td>\n",
       "    </tr>\n",
       "    <tr>\n",
       "      <th>2</th>\n",
       "      <th>0</th>\n",
       "      <td>SPRING DAYS\\n\\nBY GEORGE MOORE\\n\\n\\n\\n\\nPREFAC...</td>\n",
       "    </tr>\n",
       "    <tr>\n",
       "      <th>3</th>\n",
       "      <th>0</th>\n",
       "      <td>MUSLIN\\n\\n\\n\\nI\\n\\n\\nThe convent was situated ...</td>\n",
       "    </tr>\n",
       "    <tr>\n",
       "      <th>4</th>\n",
       "      <th>0</th>\n",
       "      <td>1\\n\\nJonathan Harker's Journal\\n\\n(Kept in s...</td>\n",
       "    </tr>\n",
       "  </tbody>\n",
       "</table>\n",
       "</div>"
      ],
      "text/plain": [
       "                                                            chap_str\n",
       "book_num chap_num                                                   \n",
       "0        0         THE HEART OF ROME  I\\n\\n\\n\\n\\nThe Baroness Vol...\n",
       "1        0         THE LOG OF A COWBOY  I\\n\\nUP THE TRAIL\\n\\nJust...\n",
       "2        0         SPRING DAYS\\n\\nBY GEORGE MOORE\\n\\n\\n\\n\\nPREFAC...\n",
       "3        0         MUSLIN\\n\\n\\n\\nI\\n\\n\\nThe convent was situated ...\n",
       "4        0           1\\n\\nJonathan Harker's Journal\\n\\n(Kept in s..."
      ]
     },
     "execution_count": 70,
     "metadata": {},
     "output_type": "execute_result"
    }
   ],
   "source": [
    "chaps.head()"
   ]
  },
  {
   "cell_type": "markdown",
   "metadata": {},
   "source": [
    "### Chapters to Paragraphs"
   ]
  },
  {
   "cell_type": "code",
   "execution_count": 72,
   "metadata": {},
   "outputs": [],
   "source": [
    "paras = chaps.chap_str.str.split(para_pat, expand=True)\\\n",
    "    .stack()\\\n",
    "    .to_frame()\\\n",
    "    .rename(columns={0:'para_str'})\n",
    "paras.index.names = PARAS\n",
    "paras.para_str = paras.para_str.str.strip()\n",
    "paras.para_str = paras.para_str.str.replace(r'\\n', ' ')\n",
    "paras.para_str = paras.para_str.str.replace(r'\\s+', ' ')\n",
    "paras = paras[~paras.para_str.str.match(r'^\\s*$')]"
   ]
  },
  {
   "cell_type": "code",
   "execution_count": 74,
   "metadata": {},
   "outputs": [
    {
     "data": {
      "text/html": [
       "<div>\n",
       "<style scoped>\n",
       "    .dataframe tbody tr th:only-of-type {\n",
       "        vertical-align: middle;\n",
       "    }\n",
       "\n",
       "    .dataframe tbody tr th {\n",
       "        vertical-align: top;\n",
       "    }\n",
       "\n",
       "    .dataframe thead th {\n",
       "        text-align: right;\n",
       "    }\n",
       "</style>\n",
       "<table border=\"1\" class=\"dataframe\">\n",
       "  <thead>\n",
       "    <tr style=\"text-align: right;\">\n",
       "      <th></th>\n",
       "      <th></th>\n",
       "      <th></th>\n",
       "      <th>para_str</th>\n",
       "    </tr>\n",
       "    <tr>\n",
       "      <th>book_num</th>\n",
       "      <th>chap_num</th>\n",
       "      <th>para_num</th>\n",
       "      <th></th>\n",
       "    </tr>\n",
       "  </thead>\n",
       "  <tbody>\n",
       "    <tr>\n",
       "      <th rowspan=\"5\" valign=\"top\">0</th>\n",
       "      <th rowspan=\"5\" valign=\"top\">0</th>\n",
       "      <th>0</th>\n",
       "      <td>THE HEART OF ROME I</td>\n",
       "    </tr>\n",
       "    <tr>\n",
       "      <th>1</th>\n",
       "      <td>The Baroness Volterra drove to the Palazzo Con...</td>\n",
       "    </tr>\n",
       "    <tr>\n",
       "      <th>2</th>\n",
       "      <td>The big porter of the palace was sweeping the ...</td>\n",
       "    </tr>\n",
       "    <tr>\n",
       "      <th>3</th>\n",
       "      <td>He did not even lift his cap to her, yet there...</td>\n",
       "    </tr>\n",
       "    <tr>\n",
       "      <th>4</th>\n",
       "      <td>The Baroness was rather more exigent in requir...</td>\n",
       "    </tr>\n",
       "  </tbody>\n",
       "</table>\n",
       "</div>"
      ],
      "text/plain": [
       "                                                                     para_str\n",
       "book_num chap_num para_num                                                   \n",
       "0        0        0                                       THE HEART OF ROME I\n",
       "                  1         The Baroness Volterra drove to the Palazzo Con...\n",
       "                  2         The big porter of the palace was sweeping the ...\n",
       "                  3         He did not even lift his cap to her, yet there...\n",
       "                  4         The Baroness was rather more exigent in requir..."
      ]
     },
     "execution_count": 74,
     "metadata": {},
     "output_type": "execute_result"
    }
   ],
   "source": [
    "paras.head()"
   ]
  },
  {
   "cell_type": "markdown",
   "metadata": {},
   "source": [
    "### Paragraphs to Sentences"
   ]
  },
  {
   "cell_type": "code",
   "execution_count": 75,
   "metadata": {},
   "outputs": [],
   "source": [
    "sents = paras.para_str\\\n",
    "    .apply(lambda x: pd.Series(nltk.sent_tokenize(x)))\\\n",
    "    .stack()\\\n",
    "    .to_frame()\\\n",
    "    .rename(columns={0:'sent_str'})\n",
    "sents.index.names = SENTS\n",
    "del(paras)"
   ]
  },
  {
   "cell_type": "code",
   "execution_count": 76,
   "metadata": {},
   "outputs": [
    {
     "data": {
      "text/html": [
       "<div>\n",
       "<style scoped>\n",
       "    .dataframe tbody tr th:only-of-type {\n",
       "        vertical-align: middle;\n",
       "    }\n",
       "\n",
       "    .dataframe tbody tr th {\n",
       "        vertical-align: top;\n",
       "    }\n",
       "\n",
       "    .dataframe thead th {\n",
       "        text-align: right;\n",
       "    }\n",
       "</style>\n",
       "<table border=\"1\" class=\"dataframe\">\n",
       "  <thead>\n",
       "    <tr style=\"text-align: right;\">\n",
       "      <th></th>\n",
       "      <th></th>\n",
       "      <th></th>\n",
       "      <th></th>\n",
       "      <th>sent_str</th>\n",
       "    </tr>\n",
       "    <tr>\n",
       "      <th>book_num</th>\n",
       "      <th>chap_num</th>\n",
       "      <th>para_num</th>\n",
       "      <th>sent_num</th>\n",
       "      <th></th>\n",
       "    </tr>\n",
       "  </thead>\n",
       "  <tbody>\n",
       "    <tr>\n",
       "      <th rowspan=\"5\" valign=\"top\">0</th>\n",
       "      <th rowspan=\"5\" valign=\"top\">0</th>\n",
       "      <th>0</th>\n",
       "      <th>0</th>\n",
       "      <td>THE HEART OF ROME I</td>\n",
       "    </tr>\n",
       "    <tr>\n",
       "      <th rowspan=\"4\" valign=\"top\">1</th>\n",
       "      <th>0</th>\n",
       "      <td>The Baroness Volterra drove to the Palazzo Con...</td>\n",
       "    </tr>\n",
       "    <tr>\n",
       "      <th>1</th>\n",
       "      <td>She had tried twice to telephone, on the previ...</td>\n",
       "    </tr>\n",
       "    <tr>\n",
       "      <th>2</th>\n",
       "      <td>She was very anxious to see Clementina at once...</td>\n",
       "    </tr>\n",
       "    <tr>\n",
       "      <th>3</th>\n",
       "      <td>She only wanted the name, and expected nothing...</td>\n",
       "    </tr>\n",
       "  </tbody>\n",
       "</table>\n",
       "</div>"
      ],
      "text/plain": [
       "                                                                              sent_str\n",
       "book_num chap_num para_num sent_num                                                   \n",
       "0        0        0        0                                       THE HEART OF ROME I\n",
       "                  1        0         The Baroness Volterra drove to the Palazzo Con...\n",
       "                           1         She had tried twice to telephone, on the previ...\n",
       "                           2         She was very anxious to see Clementina at once...\n",
       "                           3         She only wanted the name, and expected nothing..."
      ]
     },
     "execution_count": 76,
     "metadata": {},
     "output_type": "execute_result"
    }
   ],
   "source": [
    "sents.head()"
   ]
  },
  {
   "cell_type": "markdown",
   "metadata": {},
   "source": [
    "### Sentences to Tokens with POS tagging"
   ]
  },
  {
   "cell_type": "code",
   "execution_count": 77,
   "metadata": {},
   "outputs": [],
   "source": [
    "tokenizer = RegexpTokenizer('\\s+', gaps=True)"
   ]
  },
  {
   "cell_type": "code",
   "execution_count": 78,
   "metadata": {},
   "outputs": [],
   "source": [
    "tokens = sents.sent_str\\\n",
    "    .apply(lambda x: pd.Series(nltk.pos_tag(tokenizer.tokenize(x))))\\\n",
    "    .stack()\\\n",
    "    .to_frame()\\\n",
    "    .rename(columns={0:'pos_tuple'})\n",
    "tokens.index.names = OHCO\n",
    "tokens['pos'] = tokens.pos_tuple.apply(lambda x: x[1])\n",
    "tokens['token_str'] = tokens.pos_tuple.apply(lambda x: x[0])\n",
    "tokens = tokens.drop('pos_tuple', 1)\n",
    "del(sents)"
   ]
  },
  {
   "cell_type": "code",
   "execution_count": 79,
   "metadata": {},
   "outputs": [
    {
     "data": {
      "text/html": [
       "<div>\n",
       "<style scoped>\n",
       "    .dataframe tbody tr th:only-of-type {\n",
       "        vertical-align: middle;\n",
       "    }\n",
       "\n",
       "    .dataframe tbody tr th {\n",
       "        vertical-align: top;\n",
       "    }\n",
       "\n",
       "    .dataframe thead th {\n",
       "        text-align: right;\n",
       "    }\n",
       "</style>\n",
       "<table border=\"1\" class=\"dataframe\">\n",
       "  <thead>\n",
       "    <tr style=\"text-align: right;\">\n",
       "      <th></th>\n",
       "      <th></th>\n",
       "      <th></th>\n",
       "      <th></th>\n",
       "      <th></th>\n",
       "      <th>pos</th>\n",
       "      <th>token_str</th>\n",
       "    </tr>\n",
       "    <tr>\n",
       "      <th>book_num</th>\n",
       "      <th>chap_num</th>\n",
       "      <th>para_num</th>\n",
       "      <th>sent_num</th>\n",
       "      <th>token_num</th>\n",
       "      <th></th>\n",
       "      <th></th>\n",
       "    </tr>\n",
       "  </thead>\n",
       "  <tbody>\n",
       "    <tr>\n",
       "      <th rowspan=\"5\" valign=\"top\">0</th>\n",
       "      <th rowspan=\"5\" valign=\"top\">0</th>\n",
       "      <th rowspan=\"5\" valign=\"top\">0</th>\n",
       "      <th rowspan=\"5\" valign=\"top\">0</th>\n",
       "      <th>0</th>\n",
       "      <td>DT</td>\n",
       "      <td>THE</td>\n",
       "    </tr>\n",
       "    <tr>\n",
       "      <th>1</th>\n",
       "      <td>NNP</td>\n",
       "      <td>HEART</td>\n",
       "    </tr>\n",
       "    <tr>\n",
       "      <th>2</th>\n",
       "      <td>NNP</td>\n",
       "      <td>OF</td>\n",
       "    </tr>\n",
       "    <tr>\n",
       "      <th>3</th>\n",
       "      <td>NNP</td>\n",
       "      <td>ROME</td>\n",
       "    </tr>\n",
       "    <tr>\n",
       "      <th>4</th>\n",
       "      <td>PRP</td>\n",
       "      <td>I</td>\n",
       "    </tr>\n",
       "  </tbody>\n",
       "</table>\n",
       "</div>"
      ],
      "text/plain": [
       "                                               pos token_str\n",
       "book_num chap_num para_num sent_num token_num               \n",
       "0        0        0        0        0           DT       THE\n",
       "                                    1          NNP     HEART\n",
       "                                    2          NNP        OF\n",
       "                                    3          NNP      ROME\n",
       "                                    4          PRP         I"
      ]
     },
     "execution_count": 79,
     "metadata": {},
     "output_type": "execute_result"
    }
   ],
   "source": [
    "tokens.head()"
   ]
  },
  {
   "cell_type": "markdown",
   "metadata": {},
   "source": [
    "### Tag punctuation and numbers"
   ]
  },
  {
   "cell_type": "code",
   "execution_count": 80,
   "metadata": {},
   "outputs": [],
   "source": [
    "tokens['punc'] = tokens.token_str.str.match(r'^[\\W_]*$').astype('int')\n",
    "tokens['num'] = tokens.token_str.str.match(r'^.*\\d.*$').astype('int')"
   ]
  },
  {
   "cell_type": "markdown",
   "metadata": {},
   "source": [
    "### Extract vocab with minimal normalization"
   ]
  },
  {
   "cell_type": "code",
   "execution_count": 81,
   "metadata": {},
   "outputs": [],
   "source": [
    "WORDS = (tokens.punc == 0) & (tokens.num == 0)\n",
    "tokens.loc[WORDS, 'term_str'] = tokens.token_str.str.lower()\\\n",
    "    .str.replace(token_pat, '')\n",
    "#     .str.replace(r'[\"_*.\\']', '')\n",
    "vocab = tokens[tokens.punc == 0].term_str.value_counts().to_frame()\\\n",
    "    .reset_index()\\\n",
    "    .rename(columns={'index':'term_str', 'term_str':'n'})\n",
    "vocab = vocab.sort_values('term_str').reset_index(drop=True)\n",
    "vocab.index.name = 'term_id'"
   ]
  },
  {
   "cell_type": "markdown",
   "metadata": {},
   "source": [
    "### Get priors for Vocab"
   ]
  },
  {
   "cell_type": "code",
   "execution_count": 82,
   "metadata": {},
   "outputs": [],
   "source": [
    "vocab['p'] = vocab.n / vocab.n.sum()"
   ]
  },
  {
   "cell_type": "markdown",
   "metadata": {},
   "source": [
    "### Add stems"
   ]
  },
  {
   "cell_type": "code",
   "execution_count": 83,
   "metadata": {},
   "outputs": [],
   "source": [
    "stemmer = nltk.stem.porter.PorterStemmer()\n",
    "vocab['port_stem'] = vocab.term_str.apply(lambda x: stemmer.stem(x))"
   ]
  },
  {
   "cell_type": "markdown",
   "metadata": {},
   "source": [
    "### Define stopwords"
   ]
  },
  {
   "cell_type": "code",
   "execution_count": 84,
   "metadata": {},
   "outputs": [],
   "source": [
    "stopwords = set(nltk.corpus.stopwords.words('english') + extra_stopwords)"
   ]
  },
  {
   "cell_type": "code",
   "execution_count": 85,
   "metadata": {},
   "outputs": [],
   "source": [
    "sw = pd.DataFrame({'x':1}, index=stopwords)\n",
    "vocab['stop'] = vocab.term_str.map(sw.x).fillna(0).astype('int')\n",
    "del(sw)"
   ]
  },
  {
   "cell_type": "markdown",
   "metadata": {},
   "source": [
    "### Add term_ids to Tokens"
   ]
  },
  {
   "cell_type": "code",
   "execution_count": 86,
   "metadata": {},
   "outputs": [],
   "source": [
    "tokens['term_id'] = tokens['term_str'].map(vocab.reset_index()\\\n",
    "    .set_index('term_str').term_id).fillna(-1).astype('int')"
   ]
  },
  {
   "cell_type": "markdown",
   "metadata": {},
   "source": [
    "### Save"
   ]
  },
  {
   "cell_type": "code",
   "execution_count": 87,
   "metadata": {},
   "outputs": [],
   "source": [
    "with sqlite3.connect(db_file) as db:\n",
    "    OHCO_T.to_sql('doc', db, if_exists='replace', index=True)\n",
    "    tokens.to_sql('token', db, if_exists='replace', index=True)\n",
    "    vocab.to_sql('vocab', db, if_exists='replace', index=True)"
   ]
  },
  {
   "cell_type": "markdown",
   "metadata": {},
   "source": [
    "### Create DTM"
   ]
  },
  {
   "cell_type": "code",
   "execution_count": 88,
   "metadata": {},
   "outputs": [],
   "source": [
    "docs=OHCO_T"
   ]
  },
  {
   "cell_type": "markdown",
   "metadata": {},
   "source": [
    "#### Create word mask"
   ]
  },
  {
   "cell_type": "code",
   "execution_count": 89,
   "metadata": {},
   "outputs": [],
   "source": [
    "WORDS = (tokens.punc == 0) & (tokens.num == 0)"
   ]
  },
  {
   "cell_type": "markdown",
   "metadata": {},
   "source": [
    "### Extrct BOW from tokens"
   ]
  },
  {
   "cell_type": "code",
   "execution_count": 91,
   "metadata": {},
   "outputs": [],
   "source": [
    "BAG = CHAPS"
   ]
  },
  {
   "cell_type": "code",
   "execution_count": 92,
   "metadata": {},
   "outputs": [],
   "source": [
    "BOW = tokens[WORDS].groupby(BAG + ['term_id'])['term_id'].count()"
   ]
  },
  {
   "cell_type": "code",
   "execution_count": 93,
   "metadata": {},
   "outputs": [
    {
     "data": {
      "text/plain": [
       "book_num  chap_num  term_id\n",
       "0         0         0          2051\n",
       "                    14            1\n",
       "                    15            1\n",
       "                    91            1\n",
       "                    112          23\n",
       "Name: term_id, dtype: int64"
      ]
     },
     "execution_count": 93,
     "metadata": {},
     "output_type": "execute_result"
    }
   ],
   "source": [
    "BOW.head()"
   ]
  },
  {
   "cell_type": "markdown",
   "metadata": {},
   "source": [
    "### Convert BOW to DTM"
   ]
  },
  {
   "cell_type": "code",
   "execution_count": 94,
   "metadata": {},
   "outputs": [],
   "source": [
    "DTM = BOW.unstack().fillna(0)"
   ]
  },
  {
   "cell_type": "code",
   "execution_count": 95,
   "metadata": {},
   "outputs": [
    {
     "data": {
      "text/html": [
       "<div>\n",
       "<style scoped>\n",
       "    .dataframe tbody tr th:only-of-type {\n",
       "        vertical-align: middle;\n",
       "    }\n",
       "\n",
       "    .dataframe tbody tr th {\n",
       "        vertical-align: top;\n",
       "    }\n",
       "\n",
       "    .dataframe thead th {\n",
       "        text-align: right;\n",
       "    }\n",
       "</style>\n",
       "<table border=\"1\" class=\"dataframe\">\n",
       "  <thead>\n",
       "    <tr style=\"text-align: right;\">\n",
       "      <th></th>\n",
       "      <th>term_id</th>\n",
       "      <th>0</th>\n",
       "      <th>1</th>\n",
       "      <th>2</th>\n",
       "      <th>3</th>\n",
       "      <th>4</th>\n",
       "      <th>5</th>\n",
       "      <th>6</th>\n",
       "      <th>7</th>\n",
       "      <th>8</th>\n",
       "      <th>9</th>\n",
       "      <th>...</th>\n",
       "      <th>64376</th>\n",
       "      <th>64377</th>\n",
       "      <th>64378</th>\n",
       "      <th>64379</th>\n",
       "      <th>64380</th>\n",
       "      <th>64381</th>\n",
       "      <th>64382</th>\n",
       "      <th>64383</th>\n",
       "      <th>64384</th>\n",
       "      <th>64385</th>\n",
       "    </tr>\n",
       "    <tr>\n",
       "      <th>book_num</th>\n",
       "      <th>chap_num</th>\n",
       "      <th></th>\n",
       "      <th></th>\n",
       "      <th></th>\n",
       "      <th></th>\n",
       "      <th></th>\n",
       "      <th></th>\n",
       "      <th></th>\n",
       "      <th></th>\n",
       "      <th></th>\n",
       "      <th></th>\n",
       "      <th></th>\n",
       "      <th></th>\n",
       "      <th></th>\n",
       "      <th></th>\n",
       "      <th></th>\n",
       "      <th></th>\n",
       "      <th></th>\n",
       "      <th></th>\n",
       "      <th></th>\n",
       "      <th></th>\n",
       "      <th></th>\n",
       "    </tr>\n",
       "  </thead>\n",
       "  <tbody>\n",
       "    <tr>\n",
       "      <th>0</th>\n",
       "      <th>0</th>\n",
       "      <td>2051.0</td>\n",
       "      <td>0.0</td>\n",
       "      <td>0.0</td>\n",
       "      <td>0.0</td>\n",
       "      <td>0.0</td>\n",
       "      <td>0.0</td>\n",
       "      <td>0.0</td>\n",
       "      <td>0.0</td>\n",
       "      <td>0.0</td>\n",
       "      <td>0.0</td>\n",
       "      <td>...</td>\n",
       "      <td>0.0</td>\n",
       "      <td>0.0</td>\n",
       "      <td>0.0</td>\n",
       "      <td>0.0</td>\n",
       "      <td>0.0</td>\n",
       "      <td>0.0</td>\n",
       "      <td>0.0</td>\n",
       "      <td>0.0</td>\n",
       "      <td>0.0</td>\n",
       "      <td>0.0</td>\n",
       "    </tr>\n",
       "    <tr>\n",
       "      <th>1</th>\n",
       "      <th>0</th>\n",
       "      <td>2502.0</td>\n",
       "      <td>0.0</td>\n",
       "      <td>0.0</td>\n",
       "      <td>0.0</td>\n",
       "      <td>0.0</td>\n",
       "      <td>0.0</td>\n",
       "      <td>0.0</td>\n",
       "      <td>1.0</td>\n",
       "      <td>0.0</td>\n",
       "      <td>0.0</td>\n",
       "      <td>...</td>\n",
       "      <td>0.0</td>\n",
       "      <td>0.0</td>\n",
       "      <td>0.0</td>\n",
       "      <td>0.0</td>\n",
       "      <td>0.0</td>\n",
       "      <td>0.0</td>\n",
       "      <td>0.0</td>\n",
       "      <td>0.0</td>\n",
       "      <td>0.0</td>\n",
       "      <td>0.0</td>\n",
       "    </tr>\n",
       "    <tr>\n",
       "      <th>2</th>\n",
       "      <th>0</th>\n",
       "      <td>2090.0</td>\n",
       "      <td>0.0</td>\n",
       "      <td>0.0</td>\n",
       "      <td>0.0</td>\n",
       "      <td>0.0</td>\n",
       "      <td>0.0</td>\n",
       "      <td>0.0</td>\n",
       "      <td>0.0</td>\n",
       "      <td>0.0</td>\n",
       "      <td>0.0</td>\n",
       "      <td>...</td>\n",
       "      <td>0.0</td>\n",
       "      <td>0.0</td>\n",
       "      <td>0.0</td>\n",
       "      <td>0.0</td>\n",
       "      <td>0.0</td>\n",
       "      <td>0.0</td>\n",
       "      <td>0.0</td>\n",
       "      <td>0.0</td>\n",
       "      <td>0.0</td>\n",
       "      <td>0.0</td>\n",
       "    </tr>\n",
       "    <tr>\n",
       "      <th>3</th>\n",
       "      <th>0</th>\n",
       "      <td>1970.0</td>\n",
       "      <td>0.0</td>\n",
       "      <td>0.0</td>\n",
       "      <td>0.0</td>\n",
       "      <td>0.0</td>\n",
       "      <td>0.0</td>\n",
       "      <td>0.0</td>\n",
       "      <td>0.0</td>\n",
       "      <td>0.0</td>\n",
       "      <td>0.0</td>\n",
       "      <td>...</td>\n",
       "      <td>0.0</td>\n",
       "      <td>0.0</td>\n",
       "      <td>0.0</td>\n",
       "      <td>0.0</td>\n",
       "      <td>0.0</td>\n",
       "      <td>0.0</td>\n",
       "      <td>0.0</td>\n",
       "      <td>0.0</td>\n",
       "      <td>0.0</td>\n",
       "      <td>0.0</td>\n",
       "    </tr>\n",
       "    <tr>\n",
       "      <th>4</th>\n",
       "      <th>0</th>\n",
       "      <td>2941.0</td>\n",
       "      <td>0.0</td>\n",
       "      <td>0.0</td>\n",
       "      <td>0.0</td>\n",
       "      <td>0.0</td>\n",
       "      <td>0.0</td>\n",
       "      <td>0.0</td>\n",
       "      <td>0.0</td>\n",
       "      <td>1.0</td>\n",
       "      <td>0.0</td>\n",
       "      <td>...</td>\n",
       "      <td>0.0</td>\n",
       "      <td>0.0</td>\n",
       "      <td>0.0</td>\n",
       "      <td>0.0</td>\n",
       "      <td>0.0</td>\n",
       "      <td>0.0</td>\n",
       "      <td>0.0</td>\n",
       "      <td>0.0</td>\n",
       "      <td>0.0</td>\n",
       "      <td>0.0</td>\n",
       "    </tr>\n",
       "  </tbody>\n",
       "</table>\n",
       "<p>5 rows × 64386 columns</p>\n",
       "</div>"
      ],
      "text/plain": [
       "term_id             0      1      2      3      4      5      6      7      \\\n",
       "book_num chap_num                                                            \n",
       "0        0         2051.0    0.0    0.0    0.0    0.0    0.0    0.0    0.0   \n",
       "1        0         2502.0    0.0    0.0    0.0    0.0    0.0    0.0    1.0   \n",
       "2        0         2090.0    0.0    0.0    0.0    0.0    0.0    0.0    0.0   \n",
       "3        0         1970.0    0.0    0.0    0.0    0.0    0.0    0.0    0.0   \n",
       "4        0         2941.0    0.0    0.0    0.0    0.0    0.0    0.0    0.0   \n",
       "\n",
       "term_id            8      9      ...    64376  64377  64378  64379  64380  \\\n",
       "book_num chap_num                ...                                        \n",
       "0        0           0.0    0.0  ...      0.0    0.0    0.0    0.0    0.0   \n",
       "1        0           0.0    0.0  ...      0.0    0.0    0.0    0.0    0.0   \n",
       "2        0           0.0    0.0  ...      0.0    0.0    0.0    0.0    0.0   \n",
       "3        0           0.0    0.0  ...      0.0    0.0    0.0    0.0    0.0   \n",
       "4        0           1.0    0.0  ...      0.0    0.0    0.0    0.0    0.0   \n",
       "\n",
       "term_id            64381  64382  64383  64384  64385  \n",
       "book_num chap_num                                     \n",
       "0        0           0.0    0.0    0.0    0.0    0.0  \n",
       "1        0           0.0    0.0    0.0    0.0    0.0  \n",
       "2        0           0.0    0.0    0.0    0.0    0.0  \n",
       "3        0           0.0    0.0    0.0    0.0    0.0  \n",
       "4        0           0.0    0.0    0.0    0.0    0.0  \n",
       "\n",
       "[5 rows x 64386 columns]"
      ]
     },
     "execution_count": 95,
     "metadata": {},
     "output_type": "execute_result"
    }
   ],
   "source": [
    "DTM.head()"
   ]
  },
  {
   "cell_type": "markdown",
   "metadata": {},
   "source": [
    "### Create Bags table"
   ]
  },
  {
   "cell_type": "code",
   "execution_count": 96,
   "metadata": {},
   "outputs": [],
   "source": [
    "bags = pd.DataFrame(index = DTM.index)\n",
    "bags['term_count'] = DTM.sum(1)\n",
    "bags['tf'] = bags.term_count / bags.term_count.sum()\n",
    "DTM = DTM.reset_index(drop=True)\n",
    "DTM.index.name = 'bag_id'"
   ]
  },
  {
   "cell_type": "markdown",
   "metadata": {},
   "source": [
    "### Computer Term Frequencies and Weights"
   ]
  },
  {
   "cell_type": "markdown",
   "metadata": {},
   "source": [
    "#### Compute TF "
   ]
  },
  {
   "cell_type": "markdown",
   "metadata": {},
   "source": [
    "#### Compute IDF "
   ]
  },
  {
   "cell_type": "code",
   "execution_count": 97,
   "metadata": {},
   "outputs": [],
   "source": [
    "N_docs = DTM.shape[0]\n",
    "vocab['df'] = DTM[DTM > 0].count()\n",
    "vocab['idf'] = np.log10(N_docs / vocab.df)"
   ]
  },
  {
   "cell_type": "markdown",
   "metadata": {},
   "source": [
    "### Test: View most frequent non-stops by IDF "
   ]
  },
  {
   "cell_type": "code",
   "execution_count": 98,
   "metadata": {},
   "outputs": [
    {
     "data": {
      "text/html": [
       "<div>\n",
       "<style scoped>\n",
       "    .dataframe tbody tr th:only-of-type {\n",
       "        vertical-align: middle;\n",
       "    }\n",
       "\n",
       "    .dataframe tbody tr th {\n",
       "        vertical-align: top;\n",
       "    }\n",
       "\n",
       "    .dataframe thead th {\n",
       "        text-align: right;\n",
       "    }\n",
       "</style>\n",
       "<table border=\"1\" class=\"dataframe\">\n",
       "  <thead>\n",
       "    <tr style=\"text-align: right;\">\n",
       "      <th></th>\n",
       "      <th>term_str</th>\n",
       "      <th>n</th>\n",
       "      <th>p</th>\n",
       "      <th>port_stem</th>\n",
       "      <th>stop</th>\n",
       "      <th>df</th>\n",
       "      <th>idf</th>\n",
       "    </tr>\n",
       "    <tr>\n",
       "      <th>term_id</th>\n",
       "      <th></th>\n",
       "      <th></th>\n",
       "      <th></th>\n",
       "      <th></th>\n",
       "      <th></th>\n",
       "      <th></th>\n",
       "      <th></th>\n",
       "    </tr>\n",
       "  </thead>\n",
       "  <tbody>\n",
       "    <tr>\n",
       "      <th>8512</th>\n",
       "      <td>carrie</td>\n",
       "      <td>1273</td>\n",
       "      <td>0.000149</td>\n",
       "      <td>carri</td>\n",
       "      <td>0</td>\n",
       "      <td>3</td>\n",
       "      <td>1.522879</td>\n",
       "    </tr>\n",
       "    <tr>\n",
       "      <th>8039</th>\n",
       "      <td>cameron</td>\n",
       "      <td>1753</td>\n",
       "      <td>0.000205</td>\n",
       "      <td>cameron</td>\n",
       "      <td>0</td>\n",
       "      <td>3</td>\n",
       "      <td>1.522879</td>\n",
       "    </tr>\n",
       "    <tr>\n",
       "      <th>31580</th>\n",
       "      <td>kitty</td>\n",
       "      <td>1435</td>\n",
       "      <td>0.000168</td>\n",
       "      <td>kitti</td>\n",
       "      <td>0</td>\n",
       "      <td>9</td>\n",
       "      <td>1.045757</td>\n",
       "    </tr>\n",
       "    <tr>\n",
       "      <th>47899</th>\n",
       "      <td>robert</td>\n",
       "      <td>1401</td>\n",
       "      <td>0.000164</td>\n",
       "      <td>robert</td>\n",
       "      <td>0</td>\n",
       "      <td>20</td>\n",
       "      <td>0.698970</td>\n",
       "    </tr>\n",
       "    <tr>\n",
       "      <th>34140</th>\n",
       "      <td>madame</td>\n",
       "      <td>1354</td>\n",
       "      <td>0.000158</td>\n",
       "      <td>madam</td>\n",
       "      <td>0</td>\n",
       "      <td>43</td>\n",
       "      <td>0.366532</td>\n",
       "    </tr>\n",
       "    <tr>\n",
       "      <th>57367</th>\n",
       "      <td>tom</td>\n",
       "      <td>1513</td>\n",
       "      <td>0.000177</td>\n",
       "      <td>tom</td>\n",
       "      <td>0</td>\n",
       "      <td>44</td>\n",
       "      <td>0.356547</td>\n",
       "    </tr>\n",
       "    <tr>\n",
       "      <th>34930</th>\n",
       "      <td>mary</td>\n",
       "      <td>2246</td>\n",
       "      <td>0.000262</td>\n",
       "      <td>mari</td>\n",
       "      <td>0</td>\n",
       "      <td>50</td>\n",
       "      <td>0.301030</td>\n",
       "    </tr>\n",
       "    <tr>\n",
       "      <th>57653</th>\n",
       "      <td>toward</td>\n",
       "      <td>1453</td>\n",
       "      <td>0.000170</td>\n",
       "      <td>toward</td>\n",
       "      <td>0</td>\n",
       "      <td>60</td>\n",
       "      <td>0.221849</td>\n",
       "    </tr>\n",
       "    <tr>\n",
       "      <th>3452</th>\n",
       "      <td>aunt</td>\n",
       "      <td>1729</td>\n",
       "      <td>0.000202</td>\n",
       "      <td>aunt</td>\n",
       "      <td>0</td>\n",
       "      <td>62</td>\n",
       "      <td>0.207608</td>\n",
       "    </tr>\n",
       "    <tr>\n",
       "      <th>23655</th>\n",
       "      <td>george</td>\n",
       "      <td>1425</td>\n",
       "      <td>0.000166</td>\n",
       "      <td>georg</td>\n",
       "      <td>0</td>\n",
       "      <td>62</td>\n",
       "      <td>0.207608</td>\n",
       "    </tr>\n",
       "    <tr>\n",
       "      <th>8297</th>\n",
       "      <td>captain</td>\n",
       "      <td>1715</td>\n",
       "      <td>0.000200</td>\n",
       "      <td>captain</td>\n",
       "      <td>0</td>\n",
       "      <td>63</td>\n",
       "      <td>0.200659</td>\n",
       "    </tr>\n",
       "    <tr>\n",
       "      <th>59106</th>\n",
       "      <td>uncle</td>\n",
       "      <td>1630</td>\n",
       "      <td>0.000190</td>\n",
       "      <td>uncl</td>\n",
       "      <td>0</td>\n",
       "      <td>66</td>\n",
       "      <td>0.180456</td>\n",
       "    </tr>\n",
       "    <tr>\n",
       "      <th>14157</th>\n",
       "      <td>de</td>\n",
       "      <td>1726</td>\n",
       "      <td>0.000202</td>\n",
       "      <td>de</td>\n",
       "      <td>0</td>\n",
       "      <td>67</td>\n",
       "      <td>0.173925</td>\n",
       "    </tr>\n",
       "    <tr>\n",
       "      <th>30809</th>\n",
       "      <td>john</td>\n",
       "      <td>3097</td>\n",
       "      <td>0.000362</td>\n",
       "      <td>john</td>\n",
       "      <td>0</td>\n",
       "      <td>67</td>\n",
       "      <td>0.173925</td>\n",
       "    </tr>\n",
       "    <tr>\n",
       "      <th>55980</th>\n",
       "      <td>tea</td>\n",
       "      <td>1272</td>\n",
       "      <td>0.000149</td>\n",
       "      <td>tea</td>\n",
       "      <td>0</td>\n",
       "      <td>73</td>\n",
       "      <td>0.136677</td>\n",
       "    </tr>\n",
       "    <tr>\n",
       "      <th>12582</th>\n",
       "      <td>couldnt</td>\n",
       "      <td>1263</td>\n",
       "      <td>0.000148</td>\n",
       "      <td>couldnt</td>\n",
       "      <td>0</td>\n",
       "      <td>73</td>\n",
       "      <td>0.136677</td>\n",
       "    </tr>\n",
       "    <tr>\n",
       "      <th>37201</th>\n",
       "      <td>mrs</td>\n",
       "      <td>9506</td>\n",
       "      <td>0.001110</td>\n",
       "      <td>mr</td>\n",
       "      <td>0</td>\n",
       "      <td>74</td>\n",
       "      <td>0.130768</td>\n",
       "    </tr>\n",
       "    <tr>\n",
       "      <th>64196</th>\n",
       "      <td>youre</td>\n",
       "      <td>1660</td>\n",
       "      <td>0.000194</td>\n",
       "      <td>your</td>\n",
       "      <td>0</td>\n",
       "      <td>75</td>\n",
       "      <td>0.124939</td>\n",
       "    </tr>\n",
       "    <tr>\n",
       "      <th>63733</th>\n",
       "      <td>wouldnt</td>\n",
       "      <td>1322</td>\n",
       "      <td>0.000154</td>\n",
       "      <td>wouldnt</td>\n",
       "      <td>0</td>\n",
       "      <td>75</td>\n",
       "      <td>0.124939</td>\n",
       "    </tr>\n",
       "    <tr>\n",
       "      <th>31499</th>\n",
       "      <td>king</td>\n",
       "      <td>1698</td>\n",
       "      <td>0.000198</td>\n",
       "      <td>king</td>\n",
       "      <td>0</td>\n",
       "      <td>76</td>\n",
       "      <td>0.119186</td>\n",
       "    </tr>\n",
       "  </tbody>\n",
       "</table>\n",
       "</div>"
      ],
      "text/plain": [
       "        term_str     n         p port_stem  stop  df       idf\n",
       "term_id                                                       \n",
       "8512      carrie  1273  0.000149     carri     0   3  1.522879\n",
       "8039     cameron  1753  0.000205   cameron     0   3  1.522879\n",
       "31580      kitty  1435  0.000168     kitti     0   9  1.045757\n",
       "47899     robert  1401  0.000164    robert     0  20  0.698970\n",
       "34140     madame  1354  0.000158     madam     0  43  0.366532\n",
       "57367        tom  1513  0.000177       tom     0  44  0.356547\n",
       "34930       mary  2246  0.000262      mari     0  50  0.301030\n",
       "57653     toward  1453  0.000170    toward     0  60  0.221849\n",
       "3452        aunt  1729  0.000202      aunt     0  62  0.207608\n",
       "23655     george  1425  0.000166     georg     0  62  0.207608\n",
       "8297     captain  1715  0.000200   captain     0  63  0.200659\n",
       "59106      uncle  1630  0.000190      uncl     0  66  0.180456\n",
       "14157         de  1726  0.000202        de     0  67  0.173925\n",
       "30809       john  3097  0.000362      john     0  67  0.173925\n",
       "55980        tea  1272  0.000149       tea     0  73  0.136677\n",
       "12582    couldnt  1263  0.000148   couldnt     0  73  0.136677\n",
       "37201        mrs  9506  0.001110        mr     0  74  0.130768\n",
       "64196      youre  1660  0.000194      your     0  75  0.124939\n",
       "63733    wouldnt  1322  0.000154   wouldnt     0  75  0.124939\n",
       "31499       king  1698  0.000198      king     0  76  0.119186"
      ]
     },
     "execution_count": 98,
     "metadata": {},
     "output_type": "execute_result"
    }
   ],
   "source": [
    "vocab[vocab.stop==0].sort_values('n', ascending=False).head(500)\\\n",
    "    .sort_values('idf', ascending=False).head(20)"
   ]
  },
  {
   "cell_type": "code",
   "execution_count": 99,
   "metadata": {},
   "outputs": [],
   "source": [
    "#### Computer TFIDF \n",
    "##### TF: term count(I used term frequency)\n",
    "##### N: number of docs\n",
    "##### DF: number of docs with term\n",
    "##### log = log10\n",
    "##### (1 + log(TF)) * log( N / DF)"
   ]
  },
  {
   "cell_type": "code",
   "execution_count": 100,
   "metadata": {},
   "outputs": [],
   "source": [
    "TFIDF = DTM * vocab['idf']"
   ]
  },
  {
   "cell_type": "code",
   "execution_count": 101,
   "metadata": {},
   "outputs": [
    {
     "data": {
      "text/html": [
       "<div>\n",
       "<style scoped>\n",
       "    .dataframe tbody tr th:only-of-type {\n",
       "        vertical-align: middle;\n",
       "    }\n",
       "\n",
       "    .dataframe tbody tr th {\n",
       "        vertical-align: top;\n",
       "    }\n",
       "\n",
       "    .dataframe thead th {\n",
       "        text-align: right;\n",
       "    }\n",
       "</style>\n",
       "<table border=\"1\" class=\"dataframe\">\n",
       "  <thead>\n",
       "    <tr style=\"text-align: right;\">\n",
       "      <th>term_id</th>\n",
       "      <th>0</th>\n",
       "      <th>1</th>\n",
       "      <th>2</th>\n",
       "      <th>3</th>\n",
       "      <th>4</th>\n",
       "      <th>5</th>\n",
       "      <th>6</th>\n",
       "      <th>7</th>\n",
       "      <th>8</th>\n",
       "      <th>9</th>\n",
       "      <th>...</th>\n",
       "      <th>64376</th>\n",
       "      <th>64377</th>\n",
       "      <th>64378</th>\n",
       "      <th>64379</th>\n",
       "      <th>64380</th>\n",
       "      <th>64381</th>\n",
       "      <th>64382</th>\n",
       "      <th>64383</th>\n",
       "      <th>64384</th>\n",
       "      <th>64385</th>\n",
       "    </tr>\n",
       "    <tr>\n",
       "      <th>bag_id</th>\n",
       "      <th></th>\n",
       "      <th></th>\n",
       "      <th></th>\n",
       "      <th></th>\n",
       "      <th></th>\n",
       "      <th></th>\n",
       "      <th></th>\n",
       "      <th></th>\n",
       "      <th></th>\n",
       "      <th></th>\n",
       "      <th></th>\n",
       "      <th></th>\n",
       "      <th></th>\n",
       "      <th></th>\n",
       "      <th></th>\n",
       "      <th></th>\n",
       "      <th></th>\n",
       "      <th></th>\n",
       "      <th></th>\n",
       "      <th></th>\n",
       "      <th></th>\n",
       "    </tr>\n",
       "  </thead>\n",
       "  <tbody>\n",
       "    <tr>\n",
       "      <th>0</th>\n",
       "      <td>0.0</td>\n",
       "      <td>0.0</td>\n",
       "      <td>0.0</td>\n",
       "      <td>0.0</td>\n",
       "      <td>0.0</td>\n",
       "      <td>0.0</td>\n",
       "      <td>0.0</td>\n",
       "      <td>0.00000</td>\n",
       "      <td>0.000000</td>\n",
       "      <td>0.0</td>\n",
       "      <td>...</td>\n",
       "      <td>0.0</td>\n",
       "      <td>0.0</td>\n",
       "      <td>0.0</td>\n",
       "      <td>0.0</td>\n",
       "      <td>0.0</td>\n",
       "      <td>0.0</td>\n",
       "      <td>0.0</td>\n",
       "      <td>0.0</td>\n",
       "      <td>0.0</td>\n",
       "      <td>0.0</td>\n",
       "    </tr>\n",
       "    <tr>\n",
       "      <th>1</th>\n",
       "      <td>0.0</td>\n",
       "      <td>0.0</td>\n",
       "      <td>0.0</td>\n",
       "      <td>0.0</td>\n",
       "      <td>0.0</td>\n",
       "      <td>0.0</td>\n",
       "      <td>0.0</td>\n",
       "      <td>1.39794</td>\n",
       "      <td>0.000000</td>\n",
       "      <td>0.0</td>\n",
       "      <td>...</td>\n",
       "      <td>0.0</td>\n",
       "      <td>0.0</td>\n",
       "      <td>0.0</td>\n",
       "      <td>0.0</td>\n",
       "      <td>0.0</td>\n",
       "      <td>0.0</td>\n",
       "      <td>0.0</td>\n",
       "      <td>0.0</td>\n",
       "      <td>0.0</td>\n",
       "      <td>0.0</td>\n",
       "    </tr>\n",
       "    <tr>\n",
       "      <th>2</th>\n",
       "      <td>0.0</td>\n",
       "      <td>0.0</td>\n",
       "      <td>0.0</td>\n",
       "      <td>0.0</td>\n",
       "      <td>0.0</td>\n",
       "      <td>0.0</td>\n",
       "      <td>0.0</td>\n",
       "      <td>0.00000</td>\n",
       "      <td>0.000000</td>\n",
       "      <td>0.0</td>\n",
       "      <td>...</td>\n",
       "      <td>0.0</td>\n",
       "      <td>0.0</td>\n",
       "      <td>0.0</td>\n",
       "      <td>0.0</td>\n",
       "      <td>0.0</td>\n",
       "      <td>0.0</td>\n",
       "      <td>0.0</td>\n",
       "      <td>0.0</td>\n",
       "      <td>0.0</td>\n",
       "      <td>0.0</td>\n",
       "    </tr>\n",
       "    <tr>\n",
       "      <th>3</th>\n",
       "      <td>0.0</td>\n",
       "      <td>0.0</td>\n",
       "      <td>0.0</td>\n",
       "      <td>0.0</td>\n",
       "      <td>0.0</td>\n",
       "      <td>0.0</td>\n",
       "      <td>0.0</td>\n",
       "      <td>0.00000</td>\n",
       "      <td>0.000000</td>\n",
       "      <td>0.0</td>\n",
       "      <td>...</td>\n",
       "      <td>0.0</td>\n",
       "      <td>0.0</td>\n",
       "      <td>0.0</td>\n",
       "      <td>0.0</td>\n",
       "      <td>0.0</td>\n",
       "      <td>0.0</td>\n",
       "      <td>0.0</td>\n",
       "      <td>0.0</td>\n",
       "      <td>0.0</td>\n",
       "      <td>0.0</td>\n",
       "    </tr>\n",
       "    <tr>\n",
       "      <th>4</th>\n",
       "      <td>0.0</td>\n",
       "      <td>0.0</td>\n",
       "      <td>0.0</td>\n",
       "      <td>0.0</td>\n",
       "      <td>0.0</td>\n",
       "      <td>0.0</td>\n",
       "      <td>0.0</td>\n",
       "      <td>0.00000</td>\n",
       "      <td>0.568636</td>\n",
       "      <td>0.0</td>\n",
       "      <td>...</td>\n",
       "      <td>0.0</td>\n",
       "      <td>0.0</td>\n",
       "      <td>0.0</td>\n",
       "      <td>0.0</td>\n",
       "      <td>0.0</td>\n",
       "      <td>0.0</td>\n",
       "      <td>0.0</td>\n",
       "      <td>0.0</td>\n",
       "      <td>0.0</td>\n",
       "      <td>0.0</td>\n",
       "    </tr>\n",
       "  </tbody>\n",
       "</table>\n",
       "<p>5 rows × 64386 columns</p>\n",
       "</div>"
      ],
      "text/plain": [
       "term_id  0      1      2      3      4      5      6        7         8      \\\n",
       "bag_id                                                                        \n",
       "0          0.0    0.0    0.0    0.0    0.0    0.0    0.0  0.00000  0.000000   \n",
       "1          0.0    0.0    0.0    0.0    0.0    0.0    0.0  1.39794  0.000000   \n",
       "2          0.0    0.0    0.0    0.0    0.0    0.0    0.0  0.00000  0.000000   \n",
       "3          0.0    0.0    0.0    0.0    0.0    0.0    0.0  0.00000  0.000000   \n",
       "4          0.0    0.0    0.0    0.0    0.0    0.0    0.0  0.00000  0.568636   \n",
       "\n",
       "term_id  9      ...    64376  64377  64378  64379  64380  64381  64382  64383  \\\n",
       "bag_id          ...                                                             \n",
       "0          0.0  ...      0.0    0.0    0.0    0.0    0.0    0.0    0.0    0.0   \n",
       "1          0.0  ...      0.0    0.0    0.0    0.0    0.0    0.0    0.0    0.0   \n",
       "2          0.0  ...      0.0    0.0    0.0    0.0    0.0    0.0    0.0    0.0   \n",
       "3          0.0  ...      0.0    0.0    0.0    0.0    0.0    0.0    0.0    0.0   \n",
       "4          0.0  ...      0.0    0.0    0.0    0.0    0.0    0.0    0.0    0.0   \n",
       "\n",
       "term_id  64384  64385  \n",
       "bag_id                 \n",
       "0          0.0    0.0  \n",
       "1          0.0    0.0  \n",
       "2          0.0    0.0  \n",
       "3          0.0    0.0  \n",
       "4          0.0    0.0  \n",
       "\n",
       "[5 rows x 64386 columns]"
      ]
     },
     "execution_count": 101,
     "metadata": {},
     "output_type": "execute_result"
    }
   ],
   "source": [
    "TFIDF.head()"
   ]
  },
  {
   "cell_type": "code",
   "execution_count": 151,
   "metadata": {},
   "outputs": [
    {
     "data": {
      "text/plain": [
       "(100, 64386)"
      ]
     },
     "execution_count": 151,
     "metadata": {},
     "output_type": "execute_result"
    }
   ],
   "source": [
    "TFIDF.shape"
   ]
  },
  {
   "cell_type": "markdown",
   "metadata": {},
   "source": [
    "### Test: Stopwords Detected?"
   ]
  },
  {
   "cell_type": "code",
   "execution_count": 109,
   "metadata": {},
   "outputs": [
    {
     "data": {
      "text/html": [
       "<div>\n",
       "<style scoped>\n",
       "    .dataframe tbody tr th:only-of-type {\n",
       "        vertical-align: middle;\n",
       "    }\n",
       "\n",
       "    .dataframe tbody tr th {\n",
       "        vertical-align: top;\n",
       "    }\n",
       "\n",
       "    .dataframe thead th {\n",
       "        text-align: right;\n",
       "    }\n",
       "</style>\n",
       "<table border=\"1\" class=\"dataframe\">\n",
       "  <thead>\n",
       "    <tr style=\"text-align: right;\">\n",
       "      <th></th>\n",
       "      <th>term_str</th>\n",
       "      <th>n</th>\n",
       "      <th>p</th>\n",
       "      <th>port_stem</th>\n",
       "      <th>stop</th>\n",
       "      <th>df</th>\n",
       "      <th>idf</th>\n",
       "      <th>tfidf_sum</th>\n",
       "      <th>tfidf_mean</th>\n",
       "      <th>tfidf_max</th>\n",
       "    </tr>\n",
       "    <tr>\n",
       "      <th>term_id</th>\n",
       "      <th></th>\n",
       "      <th></th>\n",
       "      <th></th>\n",
       "      <th></th>\n",
       "      <th></th>\n",
       "      <th></th>\n",
       "      <th></th>\n",
       "      <th></th>\n",
       "      <th></th>\n",
       "      <th></th>\n",
       "    </tr>\n",
       "  </thead>\n",
       "  <tbody>\n",
       "    <tr>\n",
       "      <th>0</th>\n",
       "      <td>a</td>\n",
       "      <td>185934</td>\n",
       "      <td>0.021717</td>\n",
       "      <td>a</td>\n",
       "      <td>1</td>\n",
       "      <td>100</td>\n",
       "      <td>0.0</td>\n",
       "      <td>0.0</td>\n",
       "      <td>0.0</td>\n",
       "      <td>0.0</td>\n",
       "    </tr>\n",
       "    <tr>\n",
       "      <th>159</th>\n",
       "      <td>about</td>\n",
       "      <td>14507</td>\n",
       "      <td>0.001694</td>\n",
       "      <td>about</td>\n",
       "      <td>1</td>\n",
       "      <td>100</td>\n",
       "      <td>0.0</td>\n",
       "      <td>0.0</td>\n",
       "      <td>0.0</td>\n",
       "      <td>0.0</td>\n",
       "    </tr>\n",
       "    <tr>\n",
       "      <th>162</th>\n",
       "      <td>above</td>\n",
       "      <td>2151</td>\n",
       "      <td>0.000251</td>\n",
       "      <td>abov</td>\n",
       "      <td>1</td>\n",
       "      <td>100</td>\n",
       "      <td>0.0</td>\n",
       "      <td>0.0</td>\n",
       "      <td>0.0</td>\n",
       "      <td>0.0</td>\n",
       "    </tr>\n",
       "    <tr>\n",
       "      <th>969</th>\n",
       "      <td>after</td>\n",
       "      <td>11137</td>\n",
       "      <td>0.001301</td>\n",
       "      <td>after</td>\n",
       "      <td>1</td>\n",
       "      <td>100</td>\n",
       "      <td>0.0</td>\n",
       "      <td>0.0</td>\n",
       "      <td>0.0</td>\n",
       "      <td>0.0</td>\n",
       "    </tr>\n",
       "    <tr>\n",
       "      <th>988</th>\n",
       "      <td>again</td>\n",
       "      <td>10548</td>\n",
       "      <td>0.001232</td>\n",
       "      <td>again</td>\n",
       "      <td>1</td>\n",
       "      <td>100</td>\n",
       "      <td>0.0</td>\n",
       "      <td>0.0</td>\n",
       "      <td>0.0</td>\n",
       "      <td>0.0</td>\n",
       "    </tr>\n",
       "  </tbody>\n",
       "</table>\n",
       "</div>"
      ],
      "text/plain": [
       "        term_str       n         p port_stem  stop   df  idf  tfidf_sum  \\\n",
       "term_id                                                                   \n",
       "0              a  185934  0.021717         a     1  100  0.0        0.0   \n",
       "159        about   14507  0.001694     about     1  100  0.0        0.0   \n",
       "162        above    2151  0.000251      abov     1  100  0.0        0.0   \n",
       "969        after   11137  0.001301     after     1  100  0.0        0.0   \n",
       "988        again   10548  0.001232     again     1  100  0.0        0.0   \n",
       "\n",
       "         tfidf_mean  tfidf_max  \n",
       "term_id                         \n",
       "0               0.0        0.0  \n",
       "159             0.0        0.0  \n",
       "162             0.0        0.0  \n",
       "969             0.0        0.0  \n",
       "988             0.0        0.0  "
      ]
     },
     "execution_count": 109,
     "metadata": {},
     "output_type": "execute_result"
    }
   ],
   "source": [
    "vocab[TFIDF.sum() == 0].head()"
   ]
  },
  {
   "cell_type": "markdown",
   "metadata": {},
   "source": [
    "### Add stats to Vocab"
   ]
  },
  {
   "cell_type": "code",
   "execution_count": 103,
   "metadata": {},
   "outputs": [],
   "source": [
    "vocab['tfidf_sum'] = TFIDF.sum()\n",
    "vocab['tfidf_mean'] = TFIDF.mean()\n",
    "vocab['tfidf_max'] = TFIDF.max()"
   ]
  },
  {
   "cell_type": "markdown",
   "metadata": {},
   "source": [
    "### Get Top words and Trim Matrix"
   ]
  },
  {
   "cell_type": "markdown",
   "metadata": {},
   "source": [
    "##### SELECT * \n",
    "##### FROM vocab \n",
    "##### WHERE stop = 0\n",
    "##### ORDER BY n DESC\n",
    "##### LIMIT 1000"
   ]
  },
  {
   "cell_type": "code",
   "execution_count": 104,
   "metadata": {},
   "outputs": [],
   "source": [
    "def get_top_terms(vocab, no_stops=True, sort_col='n', k=1000):\n",
    "    if no_stops:\n",
    "        V = vocab[vocab.stop == 0]\n",
    "    else:\n",
    "        V = vocab\n",
    "    return V.sort_values(sort_col, ascending=False).head(k)"
   ]
  },
  {
   "cell_type": "markdown",
   "metadata": {},
   "source": [
    "### Remove proper nouns"
   ]
  },
  {
   "cell_type": "code",
   "execution_count": 105,
   "metadata": {},
   "outputs": [],
   "source": [
    "proper_nouns = tokens.loc[tokens.pos == 'NNP', 'term_id'].unique()"
   ]
  },
  {
   "cell_type": "code",
   "execution_count": 106,
   "metadata": {},
   "outputs": [],
   "source": [
    "top_n = 1000\n",
    "# TOPV = get_top_terms(vocab, sort_col='n')\n",
    "TOPV = get_top_terms(vocab.loc[~vocab.index.isin(proper_nouns)], sort_col='n')"
   ]
  },
  {
   "cell_type": "code",
   "execution_count": 108,
   "metadata": {},
   "outputs": [
    {
     "data": {
      "text/html": [
       "<div>\n",
       "<style scoped>\n",
       "    .dataframe tbody tr th:only-of-type {\n",
       "        vertical-align: middle;\n",
       "    }\n",
       "\n",
       "    .dataframe tbody tr th {\n",
       "        vertical-align: top;\n",
       "    }\n",
       "\n",
       "    .dataframe thead th {\n",
       "        text-align: right;\n",
       "    }\n",
       "</style>\n",
       "<table border=\"1\" class=\"dataframe\">\n",
       "  <thead>\n",
       "    <tr style=\"text-align: right;\">\n",
       "      <th></th>\n",
       "      <th>term_str</th>\n",
       "      <th>n</th>\n",
       "      <th>p</th>\n",
       "      <th>port_stem</th>\n",
       "      <th>stop</th>\n",
       "      <th>df</th>\n",
       "      <th>idf</th>\n",
       "      <th>tfidf_sum</th>\n",
       "      <th>tfidf_mean</th>\n",
       "      <th>tfidf_max</th>\n",
       "    </tr>\n",
       "    <tr>\n",
       "      <th>term_id</th>\n",
       "      <th></th>\n",
       "      <th></th>\n",
       "      <th></th>\n",
       "      <th></th>\n",
       "      <th></th>\n",
       "      <th></th>\n",
       "      <th></th>\n",
       "      <th></th>\n",
       "      <th></th>\n",
       "      <th></th>\n",
       "    </tr>\n",
       "  </thead>\n",
       "  <tbody>\n",
       "    <tr>\n",
       "      <th>2999</th>\n",
       "      <td>asked</td>\n",
       "      <td>6451</td>\n",
       "      <td>0.000753</td>\n",
       "      <td>ask</td>\n",
       "      <td>0</td>\n",
       "      <td>99</td>\n",
       "      <td>0.004365</td>\n",
       "      <td>28.157360</td>\n",
       "      <td>0.281574</td>\n",
       "      <td>1.540776</td>\n",
       "    </tr>\n",
       "    <tr>\n",
       "      <th>58561</th>\n",
       "      <td>turned</td>\n",
       "      <td>5564</td>\n",
       "      <td>0.000650</td>\n",
       "      <td>turn</td>\n",
       "      <td>0</td>\n",
       "      <td>99</td>\n",
       "      <td>0.004365</td>\n",
       "      <td>24.285777</td>\n",
       "      <td>0.242858</td>\n",
       "      <td>0.689639</td>\n",
       "    </tr>\n",
       "    <tr>\n",
       "      <th>24258</th>\n",
       "      <td>going</td>\n",
       "      <td>5485</td>\n",
       "      <td>0.000641</td>\n",
       "      <td>go</td>\n",
       "      <td>0</td>\n",
       "      <td>100</td>\n",
       "      <td>0.000000</td>\n",
       "      <td>0.000000</td>\n",
       "      <td>0.000000</td>\n",
       "      <td>0.000000</td>\n",
       "    </tr>\n",
       "    <tr>\n",
       "      <th>13100</th>\n",
       "      <td>cried</td>\n",
       "      <td>4393</td>\n",
       "      <td>0.000513</td>\n",
       "      <td>cri</td>\n",
       "      <td>0</td>\n",
       "      <td>94</td>\n",
       "      <td>0.026872</td>\n",
       "      <td>118.049339</td>\n",
       "      <td>1.180493</td>\n",
       "      <td>12.952375</td>\n",
       "    </tr>\n",
       "    <tr>\n",
       "      <th>63027</th>\n",
       "      <td>whole</td>\n",
       "      <td>3264</td>\n",
       "      <td>0.000381</td>\n",
       "      <td>whole</td>\n",
       "      <td>0</td>\n",
       "      <td>100</td>\n",
       "      <td>0.000000</td>\n",
       "      <td>0.000000</td>\n",
       "      <td>0.000000</td>\n",
       "      <td>0.000000</td>\n",
       "    </tr>\n",
       "  </tbody>\n",
       "</table>\n",
       "</div>"
      ],
      "text/plain": [
       "        term_str     n         p port_stem  stop   df       idf   tfidf_sum  \\\n",
       "term_id                                                                       \n",
       "2999       asked  6451  0.000753       ask     0   99  0.004365   28.157360   \n",
       "58561     turned  5564  0.000650      turn     0   99  0.004365   24.285777   \n",
       "24258      going  5485  0.000641        go     0  100  0.000000    0.000000   \n",
       "13100      cried  4393  0.000513       cri     0   94  0.026872  118.049339   \n",
       "63027      whole  3264  0.000381     whole     0  100  0.000000    0.000000   \n",
       "\n",
       "         tfidf_mean  tfidf_max  \n",
       "term_id                         \n",
       "2999       0.281574   1.540776  \n",
       "58561      0.242858   0.689639  \n",
       "24258      0.000000   0.000000  \n",
       "13100      1.180493  12.952375  \n",
       "63027      0.000000   0.000000  "
      ]
     },
     "execution_count": 108,
     "metadata": {},
     "output_type": "execute_result"
    }
   ],
   "source": [
    "TOPV.head()"
   ]
  },
  {
   "cell_type": "code",
   "execution_count": 114,
   "metadata": {},
   "outputs": [],
   "source": [
    "tfidf_small = TFIDF[TOPV.index].stack().to_frame().rename(columns={0:'w'})"
   ]
  },
  {
   "cell_type": "code",
   "execution_count": 115,
   "metadata": {},
   "outputs": [
    {
     "data": {
      "text/html": [
       "<div>\n",
       "<style scoped>\n",
       "    .dataframe tbody tr th:only-of-type {\n",
       "        vertical-align: middle;\n",
       "    }\n",
       "\n",
       "    .dataframe tbody tr th {\n",
       "        vertical-align: top;\n",
       "    }\n",
       "\n",
       "    .dataframe thead th {\n",
       "        text-align: right;\n",
       "    }\n",
       "</style>\n",
       "<table border=\"1\" class=\"dataframe\">\n",
       "  <thead>\n",
       "    <tr style=\"text-align: right;\">\n",
       "      <th></th>\n",
       "      <th></th>\n",
       "      <th>w</th>\n",
       "    </tr>\n",
       "    <tr>\n",
       "      <th>bag_id</th>\n",
       "      <th>term_id</th>\n",
       "      <th></th>\n",
       "    </tr>\n",
       "  </thead>\n",
       "  <tbody>\n",
       "    <tr>\n",
       "      <th rowspan=\"5\" valign=\"top\">0</th>\n",
       "      <th>2999</th>\n",
       "      <td>0.711463</td>\n",
       "    </tr>\n",
       "    <tr>\n",
       "      <th>58561</th>\n",
       "      <td>0.340455</td>\n",
       "    </tr>\n",
       "    <tr>\n",
       "      <th>24258</th>\n",
       "      <td>0.000000</td>\n",
       "    </tr>\n",
       "    <tr>\n",
       "      <th>13100</th>\n",
       "      <td>0.940525</td>\n",
       "    </tr>\n",
       "    <tr>\n",
       "      <th>63027</th>\n",
       "      <td>0.000000</td>\n",
       "    </tr>\n",
       "  </tbody>\n",
       "</table>\n",
       "</div>"
      ],
      "text/plain": [
       "                       w\n",
       "bag_id term_id          \n",
       "0      2999     0.711463\n",
       "       58561    0.340455\n",
       "       24258    0.000000\n",
       "       13100    0.940525\n",
       "       63027    0.000000"
      ]
     },
     "execution_count": 115,
     "metadata": {},
     "output_type": "execute_result"
    }
   ],
   "source": [
    "tfidf_small.head()"
   ]
  },
  {
   "cell_type": "markdown",
   "metadata": {},
   "source": [
    "### Save Data"
   ]
  },
  {
   "cell_type": "code",
   "execution_count": 111,
   "metadata": {},
   "outputs": [],
   "source": [
    "db_name='novels.db'"
   ]
  },
  {
   "cell_type": "code",
   "execution_count": 113,
   "metadata": {},
   "outputs": [
    {
     "data": {
      "text/plain": [
       "\"with sqlite3.connect(db_name) as db:\\n    vocab.to_sql('vocab', db, if_exists='replace', index=True)\\n    tokens.to_sql('token', db, if_exists='replace', index=True)\\n    docs.to_sql('doc', db, if_exists='replace', index=True)\""
      ]
     },
     "execution_count": 113,
     "metadata": {},
     "output_type": "execute_result"
    }
   ],
   "source": [
    "with sqlite3.connect(db_name) as db:\n",
    "    vocab.to_sql('vocab', db, if_exists='replace', index=True)\n",
    "    tokens.to_sql('token', db, if_exists='replace', index=True)\n",
    "    docs.to_sql('doc', db, if_exists='replace', index=True)"
   ]
  },
  {
   "cell_type": "code",
   "execution_count": 119,
   "metadata": {},
   "outputs": [],
   "source": [
    "with sqlite3.connect(db_name) as db:\n",
    "    tfidf_small.to_sql('tfidf_small', db, if_exists='replace', index=True)\n",
    "    bags.reset_index().to_sql('bag', db, if_exists='replace', index=True, index_label='bag_id')"
   ]
  },
  {
   "cell_type": "markdown",
   "metadata": {},
   "source": [
    "# Compare Between Books Using Consine Similarity  "
   ]
  },
  {
   "cell_type": "code",
   "execution_count": 219,
   "metadata": {},
   "outputs": [],
   "source": [
    "### Libraries \n",
    "import pandas as pd\n",
    "import sqlite3\n",
    "import seaborn as sns\n",
    "import scipy.cluster.hierarchy as sch\n",
    "from scipy.spatial.distance import pdist\n",
    "from sklearn.cluster import AgglomerativeClustering\n",
    "from sklearn.decomposition import PCA\n",
    "\n",
    "import matplotlib.pyplot as plt"
   ]
  },
  {
   "cell_type": "code",
   "execution_count": 184,
   "metadata": {},
   "outputs": [],
   "source": [
    "SIMS = pdist(TFIDF, metric='cosine')\n",
    "pair_idx = [(i, j) for i in TFIDF.index for j in TFIDF.index if j > i]\n"
   ]
  },
  {
   "cell_type": "code",
   "execution_count": 183,
   "metadata": {},
   "outputs": [],
   "source": [
    "doc_pairs=pd.DataFrame(columns=[\"cosine\"],index=pd.MultiIndex.from_tuples(pair_idx))"
   ]
  },
  {
   "cell_type": "code",
   "execution_count": 186,
   "metadata": {},
   "outputs": [],
   "source": [
    "doc_pairs[\"cosine\"]=SIMS"
   ]
  },
  {
   "cell_type": "code",
   "execution_count": 191,
   "metadata": {},
   "outputs": [
    {
     "data": {
      "text/plain": [
       "<matplotlib.axes._subplots.AxesSubplot at 0x7f6fdf101588>"
      ]
     },
     "execution_count": 191,
     "metadata": {},
     "output_type": "execute_result"
    },
    {
     "data": {
      "image/png": "[encoded data removed]",
      "text/plain": [
       "<Figure size 432x288 with 1 Axes>"
      ]
     },
     "metadata": {},
     "output_type": "display_data"
    }
   ],
   "source": [
    "doc_pairs[\"cosine\"].hist()"
   ]
  },
  {
   "cell_type": "code",
   "execution_count": 190,
   "metadata": {},
   "outputs": [
    {
     "data": {
      "text/plain": [
       "<matplotlib.axes._subplots.AxesSubplot at 0x7f6fdf07f5f8>"
      ]
     },
     "execution_count": 190,
     "metadata": {},
     "output_type": "execute_result"
    },
    {
     "data": {
      "image/png": "[encoded data removed]",
      "text/plain": [
       "<Figure size 432x288 with 2 Axes>"
      ]
     },
     "metadata": {},
     "output_type": "display_data"
    }
   ],
   "source": [
    "sns.heatmap(doc_pairs.unstack())\n",
    "#Most of the books are quite similar "
   ]
  },
  {
   "cell_type": "code",
   "execution_count": 205,
   "metadata": {},
   "outputs": [],
   "source": [
    "with sqlite3.connect(db_name) as db:\n",
    "    tfidf_small=pd.read_sql('SELECT * from tfidf_small',db,index_col=[\"bag_id\",\"term_id\"])"
   ]
  },
  {
   "cell_type": "code",
   "execution_count": 207,
   "metadata": {},
   "outputs": [],
   "source": [
    "#unpack proper_noun_TFIDF\n",
    "tfidf_small=tfidf_small.unstack()"
   ]
  },
  {
   "cell_type": "code",
   "execution_count": 208,
   "metadata": {},
   "outputs": [],
   "source": [
    "tfidf_small.columns = tfidf_small.columns.droplevel(0)"
   ]
  },
  {
   "cell_type": "code",
   "execution_count": 210,
   "metadata": {},
   "outputs": [],
   "source": [
    "labels=OHCO_T[OHCO_T.columns[2:4]].apply(lambda x: ' '.join(x.astype('str')),1).tolist()"
   ]
  },
  {
   "cell_type": "code",
   "execution_count": 211,
   "metadata": {},
   "outputs": [],
   "source": [
    "SIMS = pdist(tfidf_small, metric='cosine')"
   ]
  },
  {
   "cell_type": "code",
   "execution_count": 215,
   "metadata": {},
   "outputs": [],
   "source": [
    "doc_pairs_proper_noun=pd.DataFrame(columns=[\"cosine\"],index=pd.MultiIndex.from_tuples(pair_idx))"
   ]
  },
  {
   "cell_type": "code",
   "execution_count": 216,
   "metadata": {},
   "outputs": [],
   "source": [
    "doc_pairs_proper_noun[\"cosine\"]=SIMS"
   ]
  },
  {
   "cell_type": "code",
   "execution_count": 217,
   "metadata": {},
   "outputs": [
    {
     "data": {
      "text/plain": [
       "<matplotlib.axes._subplots.AxesSubplot at 0x7f6fdf70fcc0>"
      ]
     },
     "execution_count": 217,
     "metadata": {},
     "output_type": "execute_result"
    },
    {
     "data": {
      "image/png": "[encoded data removed]",
      "text/plain": [
       "<Figure size 432x288 with 1 Axes>"
      ]
     },
     "metadata": {},
     "output_type": "display_data"
    }
   ],
   "source": [
    "doc_pairs_proper_noun.cosine.hist()"
   ]
  },
  {
   "cell_type": "code",
   "execution_count": 218,
   "metadata": {},
   "outputs": [
    {
     "data": {
      "text/plain": [
       "<matplotlib.axes._subplots.AxesSubplot at 0x7f6fdfb7bcf8>"
      ]
     },
     "execution_count": 218,
     "metadata": {},
     "output_type": "execute_result"
    },
    {
     "data": {
      "image/png": "[encoded data removed]",
      "text/plain": [
       "<Figure size 432x288 with 2 Axes>"
      ]
     },
     "metadata": {},
     "output_type": "display_data"
    }
   ],
   "source": [
    "sns.heatmap(doc_pairs_proper_noun.unstack())\n",
    "#Most of the books are quite similar "
   ]
  },
  {
   "cell_type": "code",
   "execution_count": 212,
   "metadata": {},
   "outputs": [],
   "source": [
    "TREE = sch.linkage(SIMS, method='ward')"
   ]
  },
  {
   "cell_type": "markdown",
   "metadata": {},
   "source": [
    "### Plot hieararchical agglomerative clustering "
   ]
  },
  {
   "cell_type": "code",
   "execution_count": 213,
   "metadata": {},
   "outputs": [],
   "source": [
    "def plot_tree(tree, labels):\n",
    "    plt.figure()\n",
    "    fig, axes = plt.subplots(figsize=(10, 60))\n",
    "    dendrogram = sch.dendrogram(tree, labels=labels, orientation=\"left\")\n",
    "    plt.tick_params(axis='both', which='major', labelsize=10)"
   ]
  },
  {
   "cell_type": "code",
   "execution_count": 214,
   "metadata": {},
   "outputs": [
    {
     "data": {
      "text/plain": [
       "<Figure size 432x288 with 0 Axes>"
      ]
     },
     "metadata": {},
     "output_type": "display_data"
    },
    {
     "data": {
      "image/png": "[encoded data removed]",
      "text/plain": [
       "<Figure size 720x4320 with 1 Axes>"
      ]
     },
     "metadata": {},
     "output_type": "display_data"
    }
   ],
   "source": [
    "plot_tree(TREE, labels)"
   ]
  },
  {
   "cell_type": "markdown",
   "metadata": {},
   "source": [
    "##### The above expriments of doc_pairs using entire TFIDF table and small proper noun TFIDF table, demonstrating that the importance of POS tag."
   ]
  },
  {
   "cell_type": "markdown",
   "metadata": {},
   "source": [
    "### PCA Analysis Using Proper Noun TFIDF"
   ]
  },
  {
   "cell_type": "code",
   "execution_count": 221,
   "metadata": {},
   "outputs": [],
   "source": [
    "n_components = 10"
   ]
  },
  {
   "cell_type": "code",
   "execution_count": 222,
   "metadata": {},
   "outputs": [],
   "source": [
    "pca = PCA(n_components=n_components)\n",
    "projected = pca.fit_transform(tfidf_small)"
   ]
  },
  {
   "cell_type": "markdown",
   "metadata": {},
   "source": [
    "#### Plot PCA Using Author"
   ]
  },
  {
   "cell_type": "code",
   "execution_count": 235,
   "metadata": {},
   "outputs": [],
   "source": [
    "authors = T[\"author\"]\n",
    "aut_lets = list(set(authors))\n",
    "author_ids = [aut_lets.index(x) for x in authors]\n",
    "\n",
    "def plot_pca_author(proj, pc_a=0, pc_b=1):\n",
    "    plt.figure(figsize=(5,5))\n",
    "    plt.scatter(proj[:, pc_a], \n",
    "                proj[:, pc_b],\n",
    "                c=author_ids, \n",
    "                edgecolor='none', alpha=0.5,\n",
    "                cmap=plt.cm.get_cmap('Reds', 10))\n",
    "    plt.xlabel('PC{}'.format(pc_a))\n",
    "    plt.ylabel('PC{}'.format(pc_b))\n",
    "    for i, x in enumerate(proj):\n",
    "        plt.annotate(T[\"author\"][i], (x[pc_a], x[pc_b]))\n",
    "    plt.title(\"100 Novels PCA by Author\")"
   ]
  },
  {
   "cell_type": "code",
   "execution_count": 240,
   "metadata": {},
   "outputs": [
    {
     "data": {
      "image/png": "[encoded data removed]",
      "text/plain": [
       "<Figure size 360x360 with 1 Axes>"
      ]
     },
     "metadata": {},
     "output_type": "display_data"
    }
   ],
   "source": [
    "plot_pca_author(projected,4,5)  \n",
    "#Using different components resulting in different results\n"
   ]
  },
  {
   "cell_type": "markdown",
   "metadata": {},
   "source": [
    "#### Plot PCA Using Gender"
   ]
  },
  {
   "cell_type": "code",
   "execution_count": 243,
   "metadata": {},
   "outputs": [],
   "source": [
    "#Plot PCA using country and gender \n",
    "genders = T[\"gender_x\"]\n",
    "letters = list(set(genders))\n",
    "gender_ids = [letters.index(x) for x in genders]\n",
    "\n",
    "def plot_pca_gender(proj, pc_a=0, pc_b=1):\n",
    "    plt.figure(figsize=(5,5))\n",
    "    plt.scatter(proj[:, pc_a], \n",
    "                proj[:, pc_b],\n",
    "                c=gender_ids, \n",
    "                edgecolor='none', alpha=0.5,\n",
    "                cmap=plt.cm.get_cmap('Reds', 10))\n",
    "    plt.xlabel('PC{}'.format(pc_a))\n",
    "    plt.ylabel('PC{}'.format(pc_b))\n",
    "    for i, x in enumerate(proj):\n",
    "        plt.annotate(T[\"gender_x\"][i], (x[pc_a], x[pc_b]))\n",
    "    plt.title(\"100 Books PCA by Gender\")"
   ]
  },
  {
   "cell_type": "code",
   "execution_count": 245,
   "metadata": {},
   "outputs": [
    {
     "data": {
      "image/png": "[encoded data removed]",
      "text/plain": [
       "<Figure size 360x360 with 1 Axes>"
      ]
     },
     "metadata": {},
     "output_type": "display_data"
    }
   ],
   "source": [
    "plot_pca_gender(projected,4,5)  \n",
    "#Same Components,gender shows a clearer trends. "
   ]
  },
  {
   "cell_type": "markdown",
   "metadata": {},
   "source": [
    "### Analyze Sentiment of Books"
   ]
  },
  {
   "cell_type": "code",
   "execution_count": 259,
   "metadata": {},
   "outputs": [],
   "source": [
    "books=T[\"text\"]"
   ]
  },
  {
   "cell_type": "code",
   "execution_count": 262,
   "metadata": {},
   "outputs": [],
   "source": [
    "### Preprocess Books \n",
    "books=books.apply(lambda x: x.strip())\n",
    "books=books.apply(lambda x: x.replace('\\n',' ').replace('\\r',''))\n",
    "books=books.apply(lambda x: x.strip())\n",
    "books=books.apply(lambda x: x.lower())                  "
   ]
  },
  {
   "cell_type": "code",
   "execution_count": 266,
   "metadata": {},
   "outputs": [],
   "source": [
    "books=books.apply(lambda x: re.sub(' +',' ',x))"
   ]
  },
  {
   "cell_type": "code",
   "execution_count": 276,
   "metadata": {},
   "outputs": [],
   "source": [
    "senti_result=genearte_book_sentiment(books)\n",
    "senti_result[\"Positive\"]=senti_result[\"Positive\"].apply(lambda x: int(x.split('.')[0]))\n",
    "senti_result[\"Negative\"]=senti_result[\"Negative\"].apply(lambda x: int(x.split('.')[0]))\n",
    "senti_result[\"Neutral\"]=senti_result[\"Neutral\"].apply(lambda x: int(x.split('.')[0]))"
   ]
  },
  {
   "cell_type": "markdown",
   "metadata": {},
   "source": [
    "### Save Data (Sentiment of Each Book)"
   ]
  },
  {
   "cell_type": "code",
   "execution_count": 283,
   "metadata": {},
   "outputs": [
    {
     "name": "stderr",
     "output_type": "stream",
     "text": [
      "/apps/software/standard/core/anaconda/5.2.0-py3.6/lib/python3.6/site-packages/pandas/core/generic.py:2130: UserWarning: The spaces in these column names will not be changed. In pandas versions < 0.14, spaces were converted to underscores.\n",
      "  dtype=dtype)\n"
     ]
    }
   ],
   "source": [
    "with sqlite3.connect(db_file) as db:\n",
    "    senti_result.to_sql('sentiment', db, if_exists='replace', index=True)"
   ]
  },
  {
   "cell_type": "code",
   "execution_count": 286,
   "metadata": {},
   "outputs": [
    {
     "data": {
      "text/html": [
       "<div>\n",
       "<style scoped>\n",
       "    .dataframe tbody tr th:only-of-type {\n",
       "        vertical-align: middle;\n",
       "    }\n",
       "\n",
       "    .dataframe tbody tr th {\n",
       "        vertical-align: top;\n",
       "    }\n",
       "\n",
       "    .dataframe thead th {\n",
       "        text-align: right;\n",
       "    }\n",
       "</style>\n",
       "<table border=\"1\" class=\"dataframe\">\n",
       "  <thead>\n",
       "    <tr style=\"text-align: right;\">\n",
       "      <th></th>\n",
       "      <th>filename</th>\n",
       "      <th>date</th>\n",
       "      <th>gender</th>\n",
       "      <th>author</th>\n",
       "      <th>nationality</th>\n",
       "      <th>title</th>\n",
       "      <th>words</th>\n",
       "      <th>text</th>\n",
       "    </tr>\n",
       "  </thead>\n",
       "  <tbody>\n",
       "    <tr>\n",
       "      <th>0</th>\n",
       "      <td>1903 the heart of rome.txt</td>\n",
       "      <td>1903</td>\n",
       "      <td>m</td>\n",
       "      <td>Francis Marion Crawford</td>\n",
       "      <td>a</td>\n",
       "      <td>The Heart of Rome</td>\n",
       "      <td>99632.0</td>\n",
       "      <td>\\n\\n\\n\\nTHE HEART OF ROME\\n\\n\\n\\n\\n\\n\\nCHAPTER...</td>\n",
       "    </tr>\n",
       "  </tbody>\n",
       "</table>\n",
       "</div>"
      ],
      "text/plain": [
       "                     filename  date gender                   author  \\\n",
       "0  1903 the heart of rome.txt  1903      m  Francis Marion Crawford   \n",
       "\n",
       "  nationality              title    words  \\\n",
       "0           a  The Heart of Rome  99632.0   \n",
       "\n",
       "                                                text  \n",
       "0  \\n\\n\\n\\nTHE HEART OF ROME\\n\\n\\n\\n\\n\\n\\nCHAPTER...  "
      ]
     },
     "execution_count": 286,
     "metadata": {},
     "output_type": "execute_result"
    }
   ],
   "source": [
    "T.head(1)"
   ]
  },
  {
   "cell_type": "code",
   "execution_count": 287,
   "metadata": {},
   "outputs": [],
   "source": [
    "T[\"book_num\"]=T.index.tolist()"
   ]
  },
  {
   "cell_type": "code",
   "execution_count": 289,
   "metadata": {},
   "outputs": [],
   "source": [
    "senti_df=senti_result.merge(T[[\"date\",\"gender\",\"author\",\"nationality\",\"title\",\"words\",\"book_num\"]],how=\"left\",on=\"book_num\")"
   ]
  },
  {
   "cell_type": "markdown",
   "metadata": {},
   "source": [
    "## Sentiment Changes Over Year"
   ]
  },
  {
   "cell_type": "code",
   "execution_count": 290,
   "metadata": {},
   "outputs": [
    {
     "data": {
      "text/plain": [
       "Text(0.5,1,'Sentiment Changes by Time')"
      ]
     },
     "execution_count": 290,
     "metadata": {},
     "output_type": "execute_result"
    },
    {
     "data": {
      "image/png": "[encoded data removed]",
      "text/plain": [
       "<Figure size 432x288 with 1 Axes>"
      ]
     },
     "metadata": {},
     "output_type": "display_data"
    }
   ],
   "source": [
    "fig,ax=plt.subplots()\n",
    "senti_df.sort_values(by=\"date\").reset_index().Positive.plot(kind=\"line\",ax=ax)\n",
    "senti_df.sort_values(by=\"date\").reset_index().Negative.plot(kind=\"line\",ax=ax)\n",
    "ax.legend([\"Postive\",\"Negative\"])\n",
    "ax.set_xlabel(\"By Time\")\n",
    "ax.set_ylabel(\"Sentiment in %\")\n",
    "ax.set_title(\"Sentiment Changes by Time\")"
   ]
  },
  {
   "cell_type": "markdown",
   "metadata": {},
   "source": [
    "#### Sentiment by Nationality "
   ]
  },
  {
   "cell_type": "code",
   "execution_count": 291,
   "metadata": {},
   "outputs": [
    {
     "data": {
      "text/plain": [
       "[Text(0,0,'American'), Text(0,0,'British'), Text(0,0,'Canadian')]"
      ]
     },
     "execution_count": 291,
     "metadata": {},
     "output_type": "execute_result"
    },
    {
     "data": {
      "image/png": "[encoded data removed]",
      "text/plain": [
       "<Figure size 432x288 with 1 Axes>"
      ]
     },
     "metadata": {},
     "output_type": "display_data"
    }
   ],
   "source": [
    "\n",
    "fig,ax=plt.subplots()\n",
    "senti_df.groupby(\"nationality\").Positive.mean().plot(kind=\"bar\",ax=ax)\n",
    "ax.set_xlabel(\"Author Nationality\")\n",
    "ax.set_ylabel(\"Positive Sentiment in %\")\n",
    "ax.set_title(\"Positive Sentiment Average by Nationality\")\n",
    "ax.set_xticklabels(labels=[\"American\",\"British\",\"Canadian\"],rotation=360)\n"
   ]
  },
  {
   "cell_type": "code",
   "execution_count": 292,
   "metadata": {},
   "outputs": [
    {
     "data": {
      "text/plain": [
       "[Text(0,0,'American'), Text(0,0,'British'), Text(0,0,'Canadian')]"
      ]
     },
     "execution_count": 292,
     "metadata": {},
     "output_type": "execute_result"
    },
    {
     "data": {
      "image/png": "[encoded data removed]",
      "text/plain": [
       "<Figure size 432x288 with 1 Axes>"
      ]
     },
     "metadata": {},
     "output_type": "display_data"
    }
   ],
   "source": [
    "\n",
    "fig,ax=plt.subplots()\n",
    "senti_df.groupby(\"nationality\").Negative.mean().plot(kind=\"bar\",ax=ax)\n",
    "ax.set_xlabel(\"Author Nationality\")\n",
    "ax.set_ylabel(\"Negative Sentiment in %\")\n",
    "ax.set_title(\"Negative Sentiment Average by Nationality\")\n",
    "ax.set_xticklabels(labels=[\"American\",\"British\",\"Canadian\"],rotation=360)\n"
   ]
  },
  {
   "cell_type": "code",
   "execution_count": 293,
   "metadata": {},
   "outputs": [
    {
     "data": {
      "text/plain": [
       "[Text(0,0,'American'), Text(0,0,'British'), Text(0,0,'Canadian')]"
      ]
     },
     "execution_count": 293,
     "metadata": {},
     "output_type": "execute_result"
    },
    {
     "data": {
      "image/png": "[encoded data removed]",
      "text/plain": [
       "<Figure size 432x288 with 1 Axes>"
      ]
     },
     "metadata": {},
     "output_type": "display_data"
    }
   ],
   "source": [
    "\n",
    "fig,ax=plt.subplots()\n",
    "senti_df.groupby(\"nationality\").Neutral.mean().plot(kind=\"bar\",ax=ax)\n",
    "ax.set_xlabel(\"Author Nationality\")\n",
    "ax.set_ylabel(\"Neutral Sentiment in %\")\n",
    "ax.set_title(\"Neutral Sentiment Average by Nationality\")\n",
    "ax.set_xticklabels(labels=[\"American\",\"British\",\"Canadian\"],rotation=360)\n"
   ]
  },
  {
   "cell_type": "markdown",
   "metadata": {},
   "source": [
    "#### Sentiment By Author Gender "
   ]
  },
  {
   "cell_type": "code",
   "execution_count": 294,
   "metadata": {},
   "outputs": [
    {
     "data": {
      "text/plain": [
       "[Text(0,0,'Female'), Text(0,0,'Male')]"
      ]
     },
     "execution_count": 294,
     "metadata": {},
     "output_type": "execute_result"
    },
    {
     "data": {
      "image/png": "[encoded data removed]",
      "text/plain": [
       "<Figure size 432x288 with 1 Axes>"
      ]
     },
     "metadata": {},
     "output_type": "display_data"
    }
   ],
   "source": [
    "fig,ax=plt.subplots()\n",
    "senti_df.groupby(\"gender\").Positive.mean().plot(kind=\"bar\",ax=ax)\n",
    "ax.set_xlabel(\"Author Gender\")\n",
    "ax.set_ylabel(\"Positive Sentiment in %\")\n",
    "ax.set_title(\"Positive Sentiment Average by Gender\")\n",
    "ax.set_xticklabels(labels=[\"Female\",\"Male\"],rotation=360)"
   ]
  },
  {
   "cell_type": "code",
   "execution_count": 295,
   "metadata": {},
   "outputs": [
    {
     "data": {
      "text/plain": [
       "[Text(0,0,'Female'), Text(0,0,'Male')]"
      ]
     },
     "execution_count": 295,
     "metadata": {},
     "output_type": "execute_result"
    },
    {
     "data": {
      "image/png": "[encoded data removed]",
      "text/plain": [
       "<Figure size 432x288 with 1 Axes>"
      ]
     },
     "metadata": {},
     "output_type": "display_data"
    }
   ],
   "source": [
    "fig,ax=plt.subplots()\n",
    "senti_df.groupby(\"gender\").Negative.mean().plot(kind=\"bar\",ax=ax)\n",
    "ax.set_xlabel(\"Author Gender\")\n",
    "ax.set_ylabel(\"Negative Sentiment in %\")\n",
    "ax.set_title(\"Negative Sentiment Average by Gender\")\n",
    "ax.set_xticklabels(labels=[\"Female\",\"Male\"],rotation=360)"
   ]
  },
  {
   "cell_type": "code",
   "execution_count": 296,
   "metadata": {},
   "outputs": [
    {
     "data": {
      "text/plain": [
       "[Text(0,0,'Female'), Text(0,0,'Male')]"
      ]
     },
     "execution_count": 296,
     "metadata": {},
     "output_type": "execute_result"
    },
    {
     "data": {
      "image/png": "[encoded data removed]",
      "text/plain": [
       "<Figure size 432x288 with 1 Axes>"
      ]
     },
     "metadata": {},
     "output_type": "display_data"
    }
   ],
   "source": [
    "fig,ax=plt.subplots()\n",
    "senti_df.groupby(\"gender\").Neutral.mean().plot(kind=\"bar\",ax=ax)\n",
    "ax.set_xlabel(\"Author Gender\")\n",
    "ax.set_ylabel(\"Neutral Sentiment in %\")\n",
    "ax.set_title(\"Neutral Sentiment Average by Gender\")\n",
    "ax.set_xticklabels(labels=[\"Female\",\"Male\"],rotation=360)"
   ]
  },
  {
   "cell_type": "code",
   "execution_count": null,
   "metadata": {},
   "outputs": [],
   "source": []
  }
 ],
 "metadata": {
  "kernelspec": {
   "display_name": "Python 3",
   "language": "python",
   "name": "python3"
  },
  "language_info": {
   "codemirror_mode": {
    "name": "ipython",
    "version": 3
   },
   "file_extension": ".py",
   "mimetype": "text/x-python",
   "name": "python",
   "nbconvert_exporter": "python",
   "pygments_lexer": "ipython3",
   "version": "3.6.6"
  }
 },
 "nbformat": 4,
 "nbformat_minor": 2
}
